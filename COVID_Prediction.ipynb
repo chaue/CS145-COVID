{
 "cells": [
  {
   "cell_type": "markdown",
   "metadata": {},
   "source": [
    "# CS 145 COVID Prediction"
   ]
  },
  {
   "cell_type": "markdown",
   "metadata": {},
   "source": [
    "## Loading Data"
   ]
  },
  {
   "cell_type": "markdown",
   "metadata": {},
   "source": [
    "First we need to load the data, which is stored in CSV files separated by date"
   ]
  },
  {
   "cell_type": "code",
   "execution_count": 95,
   "metadata": {},
   "outputs": [],
   "source": [
    "import numpy as np\n",
    "import pandas as pd\n",
    "import glob\n",
    "from sklearn.impute import KNNImputer\n",
    "import matplotlib.pyplot as plt"
   ]
  },
  {
   "cell_type": "code",
   "execution_count": 96,
   "metadata": {},
   "outputs": [
    {
     "name": "stdout",
     "output_type": "stream",
     "text": [
      "['data/csse_covid_19_daily_reports_us/09-20-2020.csv'\n",
      " 'data/csse_covid_19_daily_reports_us/05-09-2020.csv'\n",
      " 'data/csse_covid_19_daily_reports_us/05-08-2020.csv'\n",
      " 'data/csse_covid_19_daily_reports_us/08-23-2020.csv']\n"
     ]
    }
   ],
   "source": [
    "# grab filepaths for every csv file\n",
    "datapath = 'data/csse_covid_19_daily_reports_us/*.csv'\n",
    "datafiles = np.array(glob.glob(datapath))\n",
    "print(datafiles[138:142])"
   ]
  },
  {
   "cell_type": "code",
   "execution_count": 97,
   "metadata": {
    "scrolled": false
   },
   "outputs": [
    {
     "data": {
      "text/html": [
       "<div>\n",
       "<style scoped>\n",
       "    .dataframe tbody tr th:only-of-type {\n",
       "        vertical-align: middle;\n",
       "    }\n",
       "\n",
       "    .dataframe tbody tr th {\n",
       "        vertical-align: top;\n",
       "    }\n",
       "\n",
       "    .dataframe thead th {\n",
       "        text-align: right;\n",
       "    }\n",
       "</style>\n",
       "<table border=\"1\" class=\"dataframe\">\n",
       "  <thead>\n",
       "    <tr style=\"text-align: right;\">\n",
       "      <th></th>\n",
       "      <th>Province_State</th>\n",
       "      <th>Last_Update</th>\n",
       "      <th>Lat</th>\n",
       "      <th>Long_</th>\n",
       "      <th>Confirmed</th>\n",
       "      <th>Deaths</th>\n",
       "      <th>Recovered</th>\n",
       "      <th>Active</th>\n",
       "      <th>Incident_Rate</th>\n",
       "      <th>People_Tested</th>\n",
       "      <th>People_Hospitalized</th>\n",
       "      <th>Mortality_Rate</th>\n",
       "      <th>Testing_Rate</th>\n",
       "      <th>Hospitalization_Rate</th>\n",
       "    </tr>\n",
       "  </thead>\n",
       "  <tbody>\n",
       "    <tr>\n",
       "      <th>48</th>\n",
       "      <td>Wisconsin</td>\n",
       "      <td>2020-06-08 03:33:42</td>\n",
       "      <td>44.2685</td>\n",
       "      <td>-89.6165</td>\n",
       "      <td>20835</td>\n",
       "      <td>647</td>\n",
       "      <td>14047.0</td>\n",
       "      <td>6141.0</td>\n",
       "      <td>357.840037</td>\n",
       "      <td>346702.0</td>\n",
       "      <td>2848.0</td>\n",
       "      <td>3.105352</td>\n",
       "      <td>5954.588751</td>\n",
       "      <td>13.669306</td>\n",
       "    </tr>\n",
       "    <tr>\n",
       "      <th>49</th>\n",
       "      <td>Wyoming</td>\n",
       "      <td>2020-06-08 03:33:42</td>\n",
       "      <td>42.7560</td>\n",
       "      <td>-107.3025</td>\n",
       "      <td>947</td>\n",
       "      <td>17</td>\n",
       "      <td>757.0</td>\n",
       "      <td>173.0</td>\n",
       "      <td>163.625965</td>\n",
       "      <td>28751.0</td>\n",
       "      <td>90.0</td>\n",
       "      <td>1.795143</td>\n",
       "      <td>4967.698127</td>\n",
       "      <td>9.503696</td>\n",
       "    </tr>\n",
       "    <tr>\n",
       "      <th>50</th>\n",
       "      <td>Alabama</td>\n",
       "      <td>2020-06-07 03:53:50</td>\n",
       "      <td>32.3182</td>\n",
       "      <td>-86.9023</td>\n",
       "      <td>20043</td>\n",
       "      <td>689</td>\n",
       "      <td>11395.0</td>\n",
       "      <td>7959.0</td>\n",
       "      <td>408.775113</td>\n",
       "      <td>245644.0</td>\n",
       "      <td>1993.0</td>\n",
       "      <td>3.437609</td>\n",
       "      <td>5009.886431</td>\n",
       "      <td>9.943621</td>\n",
       "    </tr>\n",
       "    <tr>\n",
       "      <th>51</th>\n",
       "      <td>Alaska</td>\n",
       "      <td>2020-06-07 03:53:50</td>\n",
       "      <td>61.3707</td>\n",
       "      <td>-152.4044</td>\n",
       "      <td>535</td>\n",
       "      <td>10</td>\n",
       "      <td>382.0</td>\n",
       "      <td>143.0</td>\n",
       "      <td>73.132890</td>\n",
       "      <td>63901.0</td>\n",
       "      <td>48.0</td>\n",
       "      <td>1.869159</td>\n",
       "      <td>8735.074397</td>\n",
       "      <td>8.971963</td>\n",
       "    </tr>\n",
       "    <tr>\n",
       "      <th>52</th>\n",
       "      <td>Arizona</td>\n",
       "      <td>2020-06-07 03:53:50</td>\n",
       "      <td>33.7298</td>\n",
       "      <td>-111.4312</td>\n",
       "      <td>25451</td>\n",
       "      <td>1043</td>\n",
       "      <td>5399.0</td>\n",
       "      <td>19009.0</td>\n",
       "      <td>349.663272</td>\n",
       "      <td>271646.0</td>\n",
       "      <td>3320.0</td>\n",
       "      <td>4.098071</td>\n",
       "      <td>3732.058823</td>\n",
       "      <td>13.044674</td>\n",
       "    </tr>\n",
       "  </tbody>\n",
       "</table>\n",
       "</div>"
      ],
      "text/plain": [
       "   Province_State         Last_Update      Lat     Long_  Confirmed  Deaths  \\\n",
       "48      Wisconsin 2020-06-08 03:33:42  44.2685  -89.6165      20835     647   \n",
       "49        Wyoming 2020-06-08 03:33:42  42.7560 -107.3025        947      17   \n",
       "50        Alabama 2020-06-07 03:53:50  32.3182  -86.9023      20043     689   \n",
       "51         Alaska 2020-06-07 03:53:50  61.3707 -152.4044        535      10   \n",
       "52        Arizona 2020-06-07 03:53:50  33.7298 -111.4312      25451    1043   \n",
       "\n",
       "    Recovered   Active  Incident_Rate  People_Tested  People_Hospitalized  \\\n",
       "48    14047.0   6141.0     357.840037       346702.0               2848.0   \n",
       "49      757.0    173.0     163.625965        28751.0                 90.0   \n",
       "50    11395.0   7959.0     408.775113       245644.0               1993.0   \n",
       "51      382.0    143.0      73.132890        63901.0                 48.0   \n",
       "52     5399.0  19009.0     349.663272       271646.0               3320.0   \n",
       "\n",
       "    Mortality_Rate  Testing_Rate  Hospitalization_Rate  \n",
       "48        3.105352   5954.588751             13.669306  \n",
       "49        1.795143   4967.698127              9.503696  \n",
       "50        3.437609   5009.886431              9.943621  \n",
       "51        1.869159   8735.074397              8.971963  \n",
       "52        4.098071   3732.058823             13.044674  "
      ]
     },
     "execution_count": 97,
     "metadata": {},
     "output_type": "execute_result"
    }
   ],
   "source": [
    "# init giant df\n",
    "data = pd.read_csv(datafiles[0])\n",
    "# read and append each csv to the master df\n",
    "for i in range(1, len(datafiles)):\n",
    "    df = pd.read_csv(datafiles[i])\n",
    "    data = data.append(df, ignore_index = True)\n",
    "# only keep 50 states\n",
    "data.drop(data[data.Province_State.isin(['Diamond Princess', 'District of Columbia', 'Grand Princess', 'Guam', 'Puerto Rico', 'American Samoa', 'Northern Mariana Islands', 'Recovered', 'Virgin Islands'])].index, inplace = True)\n",
    "data.drop(columns = ['Country_Region', 'FIPS', 'UID', 'ISO3'], inplace = True)\n",
    "data['Last_Update'] = data['Last_Update'].astype('datetime64[ns]')\n",
    "data = data.reset_index(drop=True)\n",
    "data.loc[48:52, ]"
   ]
  },
  {
   "cell_type": "markdown",
   "metadata": {},
   "source": [
    "## Data Cleaning"
   ]
  },
  {
   "cell_type": "code",
   "execution_count": 98,
   "metadata": {},
   "outputs": [
    {
     "data": {
      "text/html": [
       "<div>\n",
       "<style scoped>\n",
       "    .dataframe tbody tr th:only-of-type {\n",
       "        vertical-align: middle;\n",
       "    }\n",
       "\n",
       "    .dataframe tbody tr th {\n",
       "        vertical-align: top;\n",
       "    }\n",
       "\n",
       "    .dataframe thead th {\n",
       "        text-align: right;\n",
       "    }\n",
       "</style>\n",
       "<table border=\"1\" class=\"dataframe\">\n",
       "  <thead>\n",
       "    <tr style=\"text-align: right;\">\n",
       "      <th></th>\n",
       "      <th>Province_State</th>\n",
       "      <th>Last_Update</th>\n",
       "      <th>Lat</th>\n",
       "      <th>Long_</th>\n",
       "      <th>Confirmed</th>\n",
       "      <th>Deaths</th>\n",
       "      <th>Recovered</th>\n",
       "      <th>Active</th>\n",
       "      <th>Incident_Rate</th>\n",
       "      <th>People_Tested</th>\n",
       "      <th>...</th>\n",
       "      <th>South Dakota</th>\n",
       "      <th>Tennessee</th>\n",
       "      <th>Texas</th>\n",
       "      <th>Utah</th>\n",
       "      <th>Vermont</th>\n",
       "      <th>Virginia</th>\n",
       "      <th>Washington</th>\n",
       "      <th>West Virginia</th>\n",
       "      <th>Wisconsin</th>\n",
       "      <th>Wyoming</th>\n",
       "    </tr>\n",
       "  </thead>\n",
       "  <tbody>\n",
       "    <tr>\n",
       "      <th>0</th>\n",
       "      <td>Alabama</td>\n",
       "      <td>2020-06-08 03:33:42</td>\n",
       "      <td>32.3182</td>\n",
       "      <td>-86.9023</td>\n",
       "      <td>20500</td>\n",
       "      <td>692</td>\n",
       "      <td>11395.0</td>\n",
       "      <td>8413.0</td>\n",
       "      <td>418.095585</td>\n",
       "      <td>259566.0</td>\n",
       "      <td>...</td>\n",
       "      <td>0</td>\n",
       "      <td>0</td>\n",
       "      <td>0</td>\n",
       "      <td>0</td>\n",
       "      <td>0</td>\n",
       "      <td>0</td>\n",
       "      <td>0</td>\n",
       "      <td>0</td>\n",
       "      <td>0</td>\n",
       "      <td>0</td>\n",
       "    </tr>\n",
       "    <tr>\n",
       "      <th>1</th>\n",
       "      <td>Alaska</td>\n",
       "      <td>2020-06-08 03:33:42</td>\n",
       "      <td>61.3707</td>\n",
       "      <td>-152.4044</td>\n",
       "      <td>543</td>\n",
       "      <td>10</td>\n",
       "      <td>382.0</td>\n",
       "      <td>151.0</td>\n",
       "      <td>74.226466</td>\n",
       "      <td>64904.0</td>\n",
       "      <td>...</td>\n",
       "      <td>0</td>\n",
       "      <td>0</td>\n",
       "      <td>0</td>\n",
       "      <td>0</td>\n",
       "      <td>0</td>\n",
       "      <td>0</td>\n",
       "      <td>0</td>\n",
       "      <td>0</td>\n",
       "      <td>0</td>\n",
       "      <td>0</td>\n",
       "    </tr>\n",
       "    <tr>\n",
       "      <th>2</th>\n",
       "      <td>Arizona</td>\n",
       "      <td>2020-06-08 03:33:42</td>\n",
       "      <td>33.7298</td>\n",
       "      <td>-111.4312</td>\n",
       "      <td>26989</td>\n",
       "      <td>1051</td>\n",
       "      <td>5517.0</td>\n",
       "      <td>20421.0</td>\n",
       "      <td>370.793369</td>\n",
       "      <td>281621.0</td>\n",
       "      <td>...</td>\n",
       "      <td>0</td>\n",
       "      <td>0</td>\n",
       "      <td>0</td>\n",
       "      <td>0</td>\n",
       "      <td>0</td>\n",
       "      <td>0</td>\n",
       "      <td>0</td>\n",
       "      <td>0</td>\n",
       "      <td>0</td>\n",
       "      <td>0</td>\n",
       "    </tr>\n",
       "    <tr>\n",
       "      <th>3</th>\n",
       "      <td>Arkansas</td>\n",
       "      <td>2020-06-08 03:33:42</td>\n",
       "      <td>34.9697</td>\n",
       "      <td>-92.3731</td>\n",
       "      <td>9426</td>\n",
       "      <td>154</td>\n",
       "      <td>6424.0</td>\n",
       "      <td>2848.0</td>\n",
       "      <td>312.346329</td>\n",
       "      <td>160273.0</td>\n",
       "      <td>...</td>\n",
       "      <td>0</td>\n",
       "      <td>0</td>\n",
       "      <td>0</td>\n",
       "      <td>0</td>\n",
       "      <td>0</td>\n",
       "      <td>0</td>\n",
       "      <td>0</td>\n",
       "      <td>0</td>\n",
       "      <td>0</td>\n",
       "      <td>0</td>\n",
       "    </tr>\n",
       "    <tr>\n",
       "      <th>4</th>\n",
       "      <td>California</td>\n",
       "      <td>2020-06-08 03:33:42</td>\n",
       "      <td>36.1162</td>\n",
       "      <td>-119.6816</td>\n",
       "      <td>130615</td>\n",
       "      <td>4632</td>\n",
       "      <td>NaN</td>\n",
       "      <td>125983.0</td>\n",
       "      <td>330.568594</td>\n",
       "      <td>2362218.0</td>\n",
       "      <td>...</td>\n",
       "      <td>0</td>\n",
       "      <td>0</td>\n",
       "      <td>0</td>\n",
       "      <td>0</td>\n",
       "      <td>0</td>\n",
       "      <td>0</td>\n",
       "      <td>0</td>\n",
       "      <td>0</td>\n",
       "      <td>0</td>\n",
       "      <td>0</td>\n",
       "    </tr>\n",
       "  </tbody>\n",
       "</table>\n",
       "<p>5 rows × 64 columns</p>\n",
       "</div>"
      ],
      "text/plain": [
       "  Province_State         Last_Update      Lat     Long_  Confirmed  Deaths  \\\n",
       "0        Alabama 2020-06-08 03:33:42  32.3182  -86.9023      20500     692   \n",
       "1         Alaska 2020-06-08 03:33:42  61.3707 -152.4044        543      10   \n",
       "2        Arizona 2020-06-08 03:33:42  33.7298 -111.4312      26989    1051   \n",
       "3       Arkansas 2020-06-08 03:33:42  34.9697  -92.3731       9426     154   \n",
       "4     California 2020-06-08 03:33:42  36.1162 -119.6816     130615    4632   \n",
       "\n",
       "   Recovered    Active  Incident_Rate  People_Tested  ...  South Dakota  \\\n",
       "0    11395.0    8413.0     418.095585       259566.0  ...             0   \n",
       "1      382.0     151.0      74.226466        64904.0  ...             0   \n",
       "2     5517.0   20421.0     370.793369       281621.0  ...             0   \n",
       "3     6424.0    2848.0     312.346329       160273.0  ...             0   \n",
       "4        NaN  125983.0     330.568594      2362218.0  ...             0   \n",
       "\n",
       "   Tennessee  Texas  Utah  Vermont  Virginia  Washington  West Virginia  \\\n",
       "0          0      0     0        0         0           0              0   \n",
       "1          0      0     0        0         0           0              0   \n",
       "2          0      0     0        0         0           0              0   \n",
       "3          0      0     0        0         0           0              0   \n",
       "4          0      0     0        0         0           0              0   \n",
       "\n",
       "   Wisconsin  Wyoming  \n",
       "0          0        0  \n",
       "1          0        0  \n",
       "2          0        0  \n",
       "3          0        0  \n",
       "4          0        0  \n",
       "\n",
       "[5 rows x 64 columns]"
      ]
     },
     "execution_count": 98,
     "metadata": {},
     "output_type": "execute_result"
    }
   ],
   "source": [
    "data = pd.concat([data, pd.get_dummies(data['Province_State'])], axis = 1)\n",
    "statenames = np.unique(data['Province_State'])\n",
    "#data.drop(columns = ['Province_State'], inplace = True)\n",
    "names = list(data.columns.values)\n",
    "timestamps = data['Last_Update']\n",
    "states = data['Province_State']\n",
    "data.head()"
   ]
  },
  {
   "cell_type": "markdown",
   "metadata": {},
   "source": [
    "We impute NA values using KNN with k = 10."
   ]
  },
  {
   "cell_type": "code",
   "execution_count": 99,
   "metadata": {},
   "outputs": [
    {
     "data": {
      "text/html": [
       "<div>\n",
       "<style scoped>\n",
       "    .dataframe tbody tr th:only-of-type {\n",
       "        vertical-align: middle;\n",
       "    }\n",
       "\n",
       "    .dataframe tbody tr th {\n",
       "        vertical-align: top;\n",
       "    }\n",
       "\n",
       "    .dataframe thead th {\n",
       "        text-align: right;\n",
       "    }\n",
       "</style>\n",
       "<table border=\"1\" class=\"dataframe\">\n",
       "  <thead>\n",
       "    <tr style=\"text-align: right;\">\n",
       "      <th></th>\n",
       "      <th>Province_State</th>\n",
       "      <th>Last_Update</th>\n",
       "      <th>Lat</th>\n",
       "      <th>Long_</th>\n",
       "      <th>Confirmed</th>\n",
       "      <th>Deaths</th>\n",
       "      <th>Recovered</th>\n",
       "      <th>Active</th>\n",
       "      <th>Incident_Rate</th>\n",
       "      <th>People_Tested</th>\n",
       "      <th>...</th>\n",
       "      <th>South Dakota</th>\n",
       "      <th>Tennessee</th>\n",
       "      <th>Texas</th>\n",
       "      <th>Utah</th>\n",
       "      <th>Vermont</th>\n",
       "      <th>Virginia</th>\n",
       "      <th>Washington</th>\n",
       "      <th>West Virginia</th>\n",
       "      <th>Wisconsin</th>\n",
       "      <th>Wyoming</th>\n",
       "    </tr>\n",
       "  </thead>\n",
       "  <tbody>\n",
       "    <tr>\n",
       "      <th>0</th>\n",
       "      <td>Alabama</td>\n",
       "      <td>2020-06-08 03:33:42</td>\n",
       "      <td>32.3182</td>\n",
       "      <td>-86.9023</td>\n",
       "      <td>20500.0</td>\n",
       "      <td>692.0</td>\n",
       "      <td>11395.0</td>\n",
       "      <td>8413.0</td>\n",
       "      <td>418.095585</td>\n",
       "      <td>259566.0</td>\n",
       "      <td>...</td>\n",
       "      <td>0.0</td>\n",
       "      <td>0.0</td>\n",
       "      <td>0.0</td>\n",
       "      <td>0.0</td>\n",
       "      <td>0.0</td>\n",
       "      <td>0.0</td>\n",
       "      <td>0.0</td>\n",
       "      <td>0.0</td>\n",
       "      <td>0.0</td>\n",
       "      <td>0.0</td>\n",
       "    </tr>\n",
       "    <tr>\n",
       "      <th>1</th>\n",
       "      <td>Alaska</td>\n",
       "      <td>2020-06-08 03:33:42</td>\n",
       "      <td>61.3707</td>\n",
       "      <td>-152.4044</td>\n",
       "      <td>543.0</td>\n",
       "      <td>10.0</td>\n",
       "      <td>382.0</td>\n",
       "      <td>151.0</td>\n",
       "      <td>74.226466</td>\n",
       "      <td>64904.0</td>\n",
       "      <td>...</td>\n",
       "      <td>0.0</td>\n",
       "      <td>0.0</td>\n",
       "      <td>0.0</td>\n",
       "      <td>0.0</td>\n",
       "      <td>0.0</td>\n",
       "      <td>0.0</td>\n",
       "      <td>0.0</td>\n",
       "      <td>0.0</td>\n",
       "      <td>0.0</td>\n",
       "      <td>0.0</td>\n",
       "    </tr>\n",
       "    <tr>\n",
       "      <th>2</th>\n",
       "      <td>Arizona</td>\n",
       "      <td>2020-06-08 03:33:42</td>\n",
       "      <td>33.7298</td>\n",
       "      <td>-111.4312</td>\n",
       "      <td>26989.0</td>\n",
       "      <td>1051.0</td>\n",
       "      <td>5517.0</td>\n",
       "      <td>20421.0</td>\n",
       "      <td>370.793369</td>\n",
       "      <td>281621.0</td>\n",
       "      <td>...</td>\n",
       "      <td>0.0</td>\n",
       "      <td>0.0</td>\n",
       "      <td>0.0</td>\n",
       "      <td>0.0</td>\n",
       "      <td>0.0</td>\n",
       "      <td>0.0</td>\n",
       "      <td>0.0</td>\n",
       "      <td>0.0</td>\n",
       "      <td>0.0</td>\n",
       "      <td>0.0</td>\n",
       "    </tr>\n",
       "    <tr>\n",
       "      <th>3</th>\n",
       "      <td>Arkansas</td>\n",
       "      <td>2020-06-08 03:33:42</td>\n",
       "      <td>34.9697</td>\n",
       "      <td>-92.3731</td>\n",
       "      <td>9426.0</td>\n",
       "      <td>154.0</td>\n",
       "      <td>6424.0</td>\n",
       "      <td>2848.0</td>\n",
       "      <td>312.346329</td>\n",
       "      <td>160273.0</td>\n",
       "      <td>...</td>\n",
       "      <td>0.0</td>\n",
       "      <td>0.0</td>\n",
       "      <td>0.0</td>\n",
       "      <td>0.0</td>\n",
       "      <td>0.0</td>\n",
       "      <td>0.0</td>\n",
       "      <td>0.0</td>\n",
       "      <td>0.0</td>\n",
       "      <td>0.0</td>\n",
       "      <td>0.0</td>\n",
       "    </tr>\n",
       "    <tr>\n",
       "      <th>4</th>\n",
       "      <td>California</td>\n",
       "      <td>2020-06-08 03:33:42</td>\n",
       "      <td>36.1162</td>\n",
       "      <td>-119.6816</td>\n",
       "      <td>130615.0</td>\n",
       "      <td>4632.0</td>\n",
       "      <td>23224.4</td>\n",
       "      <td>125983.0</td>\n",
       "      <td>330.568594</td>\n",
       "      <td>2362218.0</td>\n",
       "      <td>...</td>\n",
       "      <td>0.0</td>\n",
       "      <td>0.0</td>\n",
       "      <td>0.0</td>\n",
       "      <td>0.0</td>\n",
       "      <td>0.0</td>\n",
       "      <td>0.0</td>\n",
       "      <td>0.0</td>\n",
       "      <td>0.0</td>\n",
       "      <td>0.0</td>\n",
       "      <td>0.0</td>\n",
       "    </tr>\n",
       "  </tbody>\n",
       "</table>\n",
       "<p>5 rows × 64 columns</p>\n",
       "</div>"
      ],
      "text/plain": [
       "  Province_State         Last_Update      Lat     Long_  Confirmed  Deaths  \\\n",
       "0        Alabama 2020-06-08 03:33:42  32.3182  -86.9023    20500.0   692.0   \n",
       "1         Alaska 2020-06-08 03:33:42  61.3707 -152.4044      543.0    10.0   \n",
       "2        Arizona 2020-06-08 03:33:42  33.7298 -111.4312    26989.0  1051.0   \n",
       "3       Arkansas 2020-06-08 03:33:42  34.9697  -92.3731     9426.0   154.0   \n",
       "4     California 2020-06-08 03:33:42  36.1162 -119.6816   130615.0  4632.0   \n",
       "\n",
       "   Recovered    Active  Incident_Rate  People_Tested  ...  South Dakota  \\\n",
       "0    11395.0    8413.0     418.095585       259566.0  ...           0.0   \n",
       "1      382.0     151.0      74.226466        64904.0  ...           0.0   \n",
       "2     5517.0   20421.0     370.793369       281621.0  ...           0.0   \n",
       "3     6424.0    2848.0     312.346329       160273.0  ...           0.0   \n",
       "4    23224.4  125983.0     330.568594      2362218.0  ...           0.0   \n",
       "\n",
       "   Tennessee  Texas  Utah  Vermont  Virginia  Washington  West Virginia  \\\n",
       "0        0.0    0.0   0.0      0.0       0.0         0.0            0.0   \n",
       "1        0.0    0.0   0.0      0.0       0.0         0.0            0.0   \n",
       "2        0.0    0.0   0.0      0.0       0.0         0.0            0.0   \n",
       "3        0.0    0.0   0.0      0.0       0.0         0.0            0.0   \n",
       "4        0.0    0.0   0.0      0.0       0.0         0.0            0.0   \n",
       "\n",
       "   Wisconsin  Wyoming  \n",
       "0        0.0      0.0  \n",
       "1        0.0      0.0  \n",
       "2        0.0      0.0  \n",
       "3        0.0      0.0  \n",
       "4        0.0      0.0  \n",
       "\n",
       "[5 rows x 64 columns]"
      ]
     },
     "execution_count": 99,
     "metadata": {},
     "output_type": "execute_result"
    }
   ],
   "source": [
    "imputer = KNNImputer(n_neighbors=10, weights=\"uniform\")\n",
    "data = pd.DataFrame(data = imputer.fit_transform(data.drop(columns = ['Province_State', 'Last_Update'])), columns = names[2:])\n",
    "data = pd.concat([states, timestamps, data], axis = 1)\n",
    "data.head()"
   ]
  },
  {
   "cell_type": "code",
   "execution_count": 100,
   "metadata": {},
   "outputs": [
    {
     "name": "stdout",
     "output_type": "stream",
     "text": [
      "0      2020-06-08 03:33:42\n",
      "1      2020-06-08 03:33:42\n",
      "2      2020-06-08 03:33:42\n",
      "3      2020-06-08 03:33:42\n",
      "4      2020-06-08 03:33:42\n",
      "               ...        \n",
      "9645   2020-04-25 06:32:46\n",
      "9646   2020-04-25 06:32:46\n",
      "9647   2020-04-25 06:32:46\n",
      "9648   2020-04-25 06:32:46\n",
      "9649   2020-04-25 06:32:46\n",
      "Name: Last_Update, Length: 9650, dtype: datetime64[ns]\n"
     ]
    }
   ],
   "source": [
    "print(data['Last_Update'])"
   ]
  },
  {
   "cell_type": "code",
   "execution_count": 101,
   "metadata": {},
   "outputs": [],
   "source": [
    "import os\n",
    "import datetime\n",
    "\n",
    "import IPython\n",
    "import IPython.display\n",
    "import matplotlib as mpl\n",
    "import seaborn as sns\n",
    "import tensorflow as tf\n",
    "\n",
    "mpl.rcParams['figure.figsize'] = (8, 6)\n",
    "mpl.rcParams['axes.grid'] = False"
   ]
  },
  {
   "cell_type": "markdown",
   "metadata": {},
   "source": [
    "## NN"
   ]
  },
  {
   "cell_type": "code",
   "execution_count": 102,
   "metadata": {},
   "outputs": [
    {
     "data": {
      "text/html": [
       "<div>\n",
       "<style scoped>\n",
       "    .dataframe tbody tr th:only-of-type {\n",
       "        vertical-align: middle;\n",
       "    }\n",
       "\n",
       "    .dataframe tbody tr th {\n",
       "        vertical-align: top;\n",
       "    }\n",
       "\n",
       "    .dataframe thead th {\n",
       "        text-align: right;\n",
       "    }\n",
       "</style>\n",
       "<table border=\"1\" class=\"dataframe\">\n",
       "  <thead>\n",
       "    <tr style=\"text-align: right;\">\n",
       "      <th></th>\n",
       "      <th>Confirmed</th>\n",
       "      <th>Deaths</th>\n",
       "      <th>Recovered</th>\n",
       "      <th>Active</th>\n",
       "      <th>Incident_Rate</th>\n",
       "      <th>People_Tested</th>\n",
       "      <th>People_Hospitalized</th>\n",
       "      <th>Mortality_Rate</th>\n",
       "      <th>Testing_Rate</th>\n",
       "      <th>Hospitalization_Rate</th>\n",
       "    </tr>\n",
       "  </thead>\n",
       "  <tbody>\n",
       "    <tr>\n",
       "      <th>3054</th>\n",
       "      <td>22795.0</td>\n",
       "      <td>640.0</td>\n",
       "      <td>4283.8</td>\n",
       "      <td>22155.0</td>\n",
       "      <td>58.137726</td>\n",
       "      <td>190328.0</td>\n",
       "      <td>5234.0</td>\n",
       "      <td>2.812020</td>\n",
       "      <td>485.423868</td>\n",
       "      <td>22.961176</td>\n",
       "    </tr>\n",
       "    <tr>\n",
       "      <th>3104</th>\n",
       "      <td>23931.0</td>\n",
       "      <td>714.0</td>\n",
       "      <td>3891.9</td>\n",
       "      <td>23217.0</td>\n",
       "      <td>61.035048</td>\n",
       "      <td>190882.0</td>\n",
       "      <td>3015.0</td>\n",
       "      <td>2.987756</td>\n",
       "      <td>486.836823</td>\n",
       "      <td>12.598721</td>\n",
       "    </tr>\n",
       "    <tr>\n",
       "      <th>1754</th>\n",
       "      <td>25356.0</td>\n",
       "      <td>767.0</td>\n",
       "      <td>4297.1</td>\n",
       "      <td>24589.0</td>\n",
       "      <td>64.669453</td>\n",
       "      <td>202208.0</td>\n",
       "      <td>5163.0</td>\n",
       "      <td>3.028869</td>\n",
       "      <td>515.723328</td>\n",
       "      <td>20.362044</td>\n",
       "    </tr>\n",
       "    <tr>\n",
       "      <th>1704</th>\n",
       "      <td>26686.0</td>\n",
       "      <td>860.0</td>\n",
       "      <td>5009.2</td>\n",
       "      <td>25826.0</td>\n",
       "      <td>68.061564</td>\n",
       "      <td>216486.0</td>\n",
       "      <td>5163.0</td>\n",
       "      <td>3.226411</td>\n",
       "      <td>552.138790</td>\n",
       "      <td>19.347223</td>\n",
       "    </tr>\n",
       "    <tr>\n",
       "      <th>4904</th>\n",
       "      <td>27677.0</td>\n",
       "      <td>956.0</td>\n",
       "      <td>4647.4</td>\n",
       "      <td>26721.0</td>\n",
       "      <td>70.589069</td>\n",
       "      <td>246400.0</td>\n",
       "      <td>5031.0</td>\n",
       "      <td>3.457745</td>\n",
       "      <td>628.433237</td>\n",
       "      <td>18.177548</td>\n",
       "    </tr>\n",
       "    <tr>\n",
       "      <th>...</th>\n",
       "      <td>...</td>\n",
       "      <td>...</td>\n",
       "      <td>...</td>\n",
       "      <td>...</td>\n",
       "      <td>...</td>\n",
       "      <td>...</td>\n",
       "      <td>...</td>\n",
       "      <td>...</td>\n",
       "      <td>...</td>\n",
       "      <td>...</td>\n",
       "    </tr>\n",
       "    <tr>\n",
       "      <th>954</th>\n",
       "      <td>873614.0</td>\n",
       "      <td>16956.0</td>\n",
       "      <td>78159.3</td>\n",
       "      <td>856658.0</td>\n",
       "      <td>2210.996835</td>\n",
       "      <td>16756711.0</td>\n",
       "      <td>89995.0</td>\n",
       "      <td>1.940903</td>\n",
       "      <td>42408.930016</td>\n",
       "      <td>20.961681</td>\n",
       "    </tr>\n",
       "    <tr>\n",
       "      <th>8404</th>\n",
       "      <td>875692.0</td>\n",
       "      <td>16979.0</td>\n",
       "      <td>78159.3</td>\n",
       "      <td>858713.0</td>\n",
       "      <td>2216.255967</td>\n",
       "      <td>16892062.0</td>\n",
       "      <td>89995.0</td>\n",
       "      <td>1.938924</td>\n",
       "      <td>42751.484775</td>\n",
       "      <td>20.961681</td>\n",
       "    </tr>\n",
       "    <tr>\n",
       "      <th>8454</th>\n",
       "      <td>879645.0</td>\n",
       "      <td>16982.0</td>\n",
       "      <td>78159.3</td>\n",
       "      <td>862663.0</td>\n",
       "      <td>2226.260466</td>\n",
       "      <td>17042408.0</td>\n",
       "      <td>89995.0</td>\n",
       "      <td>1.930552</td>\n",
       "      <td>43131.989815</td>\n",
       "      <td>20.961681</td>\n",
       "    </tr>\n",
       "    <tr>\n",
       "      <th>5354</th>\n",
       "      <td>883746.0</td>\n",
       "      <td>17055.0</td>\n",
       "      <td>78159.3</td>\n",
       "      <td>866691.0</td>\n",
       "      <td>2236.639533</td>\n",
       "      <td>17189070.0</td>\n",
       "      <td>89995.0</td>\n",
       "      <td>1.929853</td>\n",
       "      <td>43503.171158</td>\n",
       "      <td>20.961681</td>\n",
       "    </tr>\n",
       "    <tr>\n",
       "      <th>5304</th>\n",
       "      <td>886939.0</td>\n",
       "      <td>17167.0</td>\n",
       "      <td>78159.3</td>\n",
       "      <td>869772.0</td>\n",
       "      <td>2244.720577</td>\n",
       "      <td>17293139.0</td>\n",
       "      <td>89995.0</td>\n",
       "      <td>1.935533</td>\n",
       "      <td>43766.555478</td>\n",
       "      <td>20.961681</td>\n",
       "    </tr>\n",
       "  </tbody>\n",
       "</table>\n",
       "<p>193 rows × 10 columns</p>\n",
       "</div>"
      ],
      "text/plain": [
       "      Confirmed   Deaths  Recovered    Active  Incident_Rate  People_Tested  \\\n",
       "3054    22795.0    640.0     4283.8   22155.0      58.137726       190328.0   \n",
       "3104    23931.0    714.0     3891.9   23217.0      61.035048       190882.0   \n",
       "1754    25356.0    767.0     4297.1   24589.0      64.669453       202208.0   \n",
       "1704    26686.0    860.0     5009.2   25826.0      68.061564       216486.0   \n",
       "4904    27677.0    956.0     4647.4   26721.0      70.589069       246400.0   \n",
       "...         ...      ...        ...       ...            ...            ...   \n",
       "954    873614.0  16956.0    78159.3  856658.0    2210.996835     16756711.0   \n",
       "8404   875692.0  16979.0    78159.3  858713.0    2216.255967     16892062.0   \n",
       "8454   879645.0  16982.0    78159.3  862663.0    2226.260466     17042408.0   \n",
       "5354   883746.0  17055.0    78159.3  866691.0    2236.639533     17189070.0   \n",
       "5304   886939.0  17167.0    78159.3  869772.0    2244.720577     17293139.0   \n",
       "\n",
       "      People_Hospitalized  Mortality_Rate  Testing_Rate  Hospitalization_Rate  \n",
       "3054               5234.0        2.812020    485.423868             22.961176  \n",
       "3104               3015.0        2.987756    486.836823             12.598721  \n",
       "1754               5163.0        3.028869    515.723328             20.362044  \n",
       "1704               5163.0        3.226411    552.138790             19.347223  \n",
       "4904               5031.0        3.457745    628.433237             18.177548  \n",
       "...                   ...             ...           ...                   ...  \n",
       "954               89995.0        1.940903  42408.930016             20.961681  \n",
       "8404              89995.0        1.938924  42751.484775             20.961681  \n",
       "8454              89995.0        1.930552  43131.989815             20.961681  \n",
       "5354              89995.0        1.929853  43503.171158             20.961681  \n",
       "5304              89995.0        1.935533  43766.555478             20.961681  \n",
       "\n",
       "[193 rows x 10 columns]"
      ]
     },
     "execution_count": 102,
     "metadata": {},
     "output_type": "execute_result"
    }
   ],
   "source": [
    "cali = data[data.Province_State.isin(['California'])]\n",
    "cali = cali.sort_values(by=['Last_Update'])\n",
    "cali = cali.drop(columns = ['Province_State'])\n",
    "cali = cali.drop(columns = states)\n",
    "cali = cali.drop(columns = ['Lat', 'Long_'])\n",
    "# cali['Last_Update'] = cali['Last_Update'].astype(int)\n",
    "date_time = pd.to_datetime(cali.pop('Last_Update'), format='%Y-%m-%d %H:%M:%S')\n",
    "cali"
   ]
  },
  {
   "cell_type": "code",
   "execution_count": 103,
   "metadata": {
    "scrolled": true
   },
   "outputs": [
    {
     "data": {
      "image/png": "[encoded data removed]",
      "text/plain": [
       "<Figure size 576x432 with 2 Axes>"
      ]
     },
     "metadata": {
      "needs_background": "light"
     },
     "output_type": "display_data"
    }
   ],
   "source": [
    "plot_cols = ['Confirmed', 'Deaths']\n",
    "plot_features = cali[plot_cols]\n",
    "plot_features.index = date_time\n",
    "_ = plot_features.plot(subplots=True)"
   ]
  },
  {
   "cell_type": "code",
   "execution_count": 104,
   "metadata": {},
   "outputs": [
    {
     "data": {
      "text/html": [
       "<div>\n",
       "<style scoped>\n",
       "    .dataframe tbody tr th:only-of-type {\n",
       "        vertical-align: middle;\n",
       "    }\n",
       "\n",
       "    .dataframe tbody tr th {\n",
       "        vertical-align: top;\n",
       "    }\n",
       "\n",
       "    .dataframe thead th {\n",
       "        text-align: right;\n",
       "    }\n",
       "</style>\n",
       "<table border=\"1\" class=\"dataframe\">\n",
       "  <thead>\n",
       "    <tr style=\"text-align: right;\">\n",
       "      <th></th>\n",
       "      <th>count</th>\n",
       "      <th>mean</th>\n",
       "      <th>std</th>\n",
       "      <th>min</th>\n",
       "      <th>25%</th>\n",
       "      <th>50%</th>\n",
       "      <th>75%</th>\n",
       "      <th>max</th>\n",
       "    </tr>\n",
       "  </thead>\n",
       "  <tbody>\n",
       "    <tr>\n",
       "      <th>Confirmed</th>\n",
       "      <td>193.0</td>\n",
       "      <td>4.119138e+05</td>\n",
       "      <td>3.037340e+05</td>\n",
       "      <td>22795.000000</td>\n",
       "      <td>1.098950e+05</td>\n",
       "      <td>3.732590e+05</td>\n",
       "      <td>7.260180e+05</td>\n",
       "      <td>8.869390e+05</td>\n",
       "    </tr>\n",
       "    <tr>\n",
       "      <th>Deaths</th>\n",
       "      <td>193.0</td>\n",
       "      <td>8.530420e+03</td>\n",
       "      <td>5.126783e+03</td>\n",
       "      <td>640.000000</td>\n",
       "      <td>4.144000e+03</td>\n",
       "      <td>7.603000e+03</td>\n",
       "      <td>1.349300e+04</td>\n",
       "      <td>1.716700e+04</td>\n",
       "    </tr>\n",
       "    <tr>\n",
       "      <th>Recovered</th>\n",
       "      <td>193.0</td>\n",
       "      <td>5.192877e+04</td>\n",
       "      <td>3.040751e+04</td>\n",
       "      <td>0.000000</td>\n",
       "      <td>2.210780e+04</td>\n",
       "      <td>7.390010e+04</td>\n",
       "      <td>7.765740e+04</td>\n",
       "      <td>8.418780e+04</td>\n",
       "    </tr>\n",
       "    <tr>\n",
       "      <th>Active</th>\n",
       "      <td>193.0</td>\n",
       "      <td>4.033834e+05</td>\n",
       "      <td>2.986469e+05</td>\n",
       "      <td>22155.000000</td>\n",
       "      <td>1.057510e+05</td>\n",
       "      <td>3.656560e+05</td>\n",
       "      <td>7.125250e+05</td>\n",
       "      <td>8.697720e+05</td>\n",
       "    </tr>\n",
       "    <tr>\n",
       "      <th>Incident_Rate</th>\n",
       "      <td>193.0</td>\n",
       "      <td>1.042648e+03</td>\n",
       "      <td>7.685286e+02</td>\n",
       "      <td>58.137726</td>\n",
       "      <td>2.781291e+02</td>\n",
       "      <td>9.446672e+02</td>\n",
       "      <td>1.837452e+03</td>\n",
       "      <td>2.244721e+03</td>\n",
       "    </tr>\n",
       "    <tr>\n",
       "      <th>People_Tested</th>\n",
       "      <td>193.0</td>\n",
       "      <td>6.982820e+06</td>\n",
       "      <td>5.371406e+06</td>\n",
       "      <td>190328.000000</td>\n",
       "      <td>1.888595e+06</td>\n",
       "      <td>6.044099e+06</td>\n",
       "      <td>1.166392e+07</td>\n",
       "      <td>1.729314e+07</td>\n",
       "    </tr>\n",
       "    <tr>\n",
       "      <th>People_Hospitalized</th>\n",
       "      <td>193.0</td>\n",
       "      <td>6.239548e+04</td>\n",
       "      <td>3.708960e+04</td>\n",
       "      <td>3015.000000</td>\n",
       "      <td>1.416310e+04</td>\n",
       "      <td>8.999500e+04</td>\n",
       "      <td>8.999500e+04</td>\n",
       "      <td>8.999500e+04</td>\n",
       "    </tr>\n",
       "    <tr>\n",
       "      <th>Mortality_Rate</th>\n",
       "      <td>193.0</td>\n",
       "      <td>2.644107e+00</td>\n",
       "      <td>8.899810e-01</td>\n",
       "      <td>1.794682</td>\n",
       "      <td>1.885005e+00</td>\n",
       "      <td>2.036923e+00</td>\n",
       "      <td>3.601934e+00</td>\n",
       "      <td>4.096960e+00</td>\n",
       "    </tr>\n",
       "    <tr>\n",
       "      <th>Testing_Rate</th>\n",
       "      <td>193.0</td>\n",
       "      <td>1.767442e+04</td>\n",
       "      <td>1.359210e+04</td>\n",
       "      <td>485.423868</td>\n",
       "      <td>4.779774e+03</td>\n",
       "      <td>1.529678e+04</td>\n",
       "      <td>2.951979e+04</td>\n",
       "      <td>4.376656e+04</td>\n",
       "    </tr>\n",
       "    <tr>\n",
       "      <th>Hospitalization_Rate</th>\n",
       "      <td>193.0</td>\n",
       "      <td>1.829384e+01</td>\n",
       "      <td>4.309352e+00</td>\n",
       "      <td>8.125463</td>\n",
       "      <td>1.448532e+01</td>\n",
       "      <td>2.096168e+01</td>\n",
       "      <td>2.096168e+01</td>\n",
       "      <td>2.306528e+01</td>\n",
       "    </tr>\n",
       "  </tbody>\n",
       "</table>\n",
       "</div>"
      ],
      "text/plain": [
       "                      count          mean           std            min  \\\n",
       "Confirmed             193.0  4.119138e+05  3.037340e+05   22795.000000   \n",
       "Deaths                193.0  8.530420e+03  5.126783e+03     640.000000   \n",
       "Recovered             193.0  5.192877e+04  3.040751e+04       0.000000   \n",
       "Active                193.0  4.033834e+05  2.986469e+05   22155.000000   \n",
       "Incident_Rate         193.0  1.042648e+03  7.685286e+02      58.137726   \n",
       "People_Tested         193.0  6.982820e+06  5.371406e+06  190328.000000   \n",
       "People_Hospitalized   193.0  6.239548e+04  3.708960e+04    3015.000000   \n",
       "Mortality_Rate        193.0  2.644107e+00  8.899810e-01       1.794682   \n",
       "Testing_Rate          193.0  1.767442e+04  1.359210e+04     485.423868   \n",
       "Hospitalization_Rate  193.0  1.829384e+01  4.309352e+00       8.125463   \n",
       "\n",
       "                               25%           50%           75%           max  \n",
       "Confirmed             1.098950e+05  3.732590e+05  7.260180e+05  8.869390e+05  \n",
       "Deaths                4.144000e+03  7.603000e+03  1.349300e+04  1.716700e+04  \n",
       "Recovered             2.210780e+04  7.390010e+04  7.765740e+04  8.418780e+04  \n",
       "Active                1.057510e+05  3.656560e+05  7.125250e+05  8.697720e+05  \n",
       "Incident_Rate         2.781291e+02  9.446672e+02  1.837452e+03  2.244721e+03  \n",
       "People_Tested         1.888595e+06  6.044099e+06  1.166392e+07  1.729314e+07  \n",
       "People_Hospitalized   1.416310e+04  8.999500e+04  8.999500e+04  8.999500e+04  \n",
       "Mortality_Rate        1.885005e+00  2.036923e+00  3.601934e+00  4.096960e+00  \n",
       "Testing_Rate          4.779774e+03  1.529678e+04  2.951979e+04  4.376656e+04  \n",
       "Hospitalization_Rate  1.448532e+01  2.096168e+01  2.096168e+01  2.306528e+01  "
      ]
     },
     "execution_count": 104,
     "metadata": {},
     "output_type": "execute_result"
    }
   ],
   "source": [
    "cali.describe().transpose()"
   ]
  },
  {
   "cell_type": "code",
   "execution_count": 105,
   "metadata": {},
   "outputs": [
    {
     "data": {
      "text/plain": [
       "3054   2020-04-12 23:18:15\n",
       "3104   2020-04-13 23:07:54\n",
       "1754   2020-04-14 23:33:31\n",
       "1704   2020-04-15 22:56:51\n",
       "4904   2020-04-16 23:30:51\n",
       "               ...        \n",
       "954    2020-10-18 04:30:24\n",
       "8404   2020-10-19 04:30:24\n",
       "8454   2020-10-20 04:30:29\n",
       "5354   2020-10-21 04:30:32\n",
       "5304   2020-10-22 04:30:36\n",
       "Name: Last_Update, Length: 193, dtype: datetime64[ns]"
      ]
     },
     "execution_count": 105,
     "metadata": {},
     "output_type": "execute_result"
    }
   ],
   "source": [
    "date_time"
   ]
  },
  {
   "cell_type": "code",
   "execution_count": 106,
   "metadata": {},
   "outputs": [],
   "source": [
    "df = cali\n",
    "column_indices = {name: i for i, name in enumerate(df.columns)}\n",
    "\n",
    "n = len(df)\n",
    "train_df = df\n",
    "val_df = train_df\n",
    "test_df = train_df\n",
    "\n",
    "num_features = df.shape[1]"
   ]
  },
  {
   "cell_type": "code",
   "execution_count": 107,
   "metadata": {},
   "outputs": [],
   "source": [
    "train_mean = train_df.mean()\n",
    "train_std = train_df.std()\n",
    "\n",
    "train_df = (train_df - train_mean) / train_std\n",
    "val_df = (val_df - train_mean) / train_std\n",
    "test_df = (test_df - train_mean) / train_std"
   ]
  },
  {
   "cell_type": "code",
   "execution_count": 108,
   "metadata": {},
   "outputs": [
    {
     "data": {
      "image/png": "[encoded data removed]",
      "text/plain": [
       "<Figure size 864x432 with 1 Axes>"
      ]
     },
     "metadata": {
      "needs_background": "light"
     },
     "output_type": "display_data"
    }
   ],
   "source": [
    "df_std = (df - train_mean) / train_std\n",
    "df_std = df_std.melt(var_name='Column', value_name='Normalized')\n",
    "plt.figure(figsize=(12, 6))\n",
    "ax = sns.violinplot(x='Column', y='Normalized', data=df_std)\n",
    "_ = ax.set_xticklabels(df.keys(), rotation=90)"
   ]
  },
  {
   "cell_type": "code",
   "execution_count": 109,
   "metadata": {},
   "outputs": [],
   "source": [
    "class WindowGenerator():\n",
    "    def __init__(self, input_width, label_width, shift,\n",
    "               train_df=train_df, val_df=val_df, test_df=test_df,\n",
    "               label_columns=None):\n",
    "        # Store the raw data.\n",
    "        self.train_df = train_df\n",
    "        self.val_df = val_df\n",
    "        self.test_df = test_df\n",
    "\n",
    "        # Work out the label column indices.\n",
    "        self.label_columns = label_columns\n",
    "        if label_columns is not None:\n",
    "            self.label_columns_indices = {name: i for i, name in\n",
    "                                        enumerate(label_columns)}\n",
    "        self.column_indices = {name: i for i, name in\n",
    "                               enumerate(train_df.columns)}\n",
    "\n",
    "        # Work out the window parameters.\n",
    "        self.input_width = input_width\n",
    "        self.label_width = label_width\n",
    "        self.shift = shift\n",
    "\n",
    "        self.total_window_size = input_width + shift\n",
    "\n",
    "        self.input_slice = slice(0, input_width)\n",
    "        self.input_indices = np.arange(self.total_window_size)[self.input_slice]\n",
    "\n",
    "        self.label_start = self.total_window_size - self.label_width\n",
    "        self.labels_slice = slice(self.label_start, None)\n",
    "        self.label_indices = np.arange(self.total_window_size)[self.labels_slice]\n",
    "\n",
    "    def __repr__(self):\n",
    "        return '\\n'.join([\n",
    "            f'Total window size: {self.total_window_size}',\n",
    "            f'Input indices: {self.input_indices}',\n",
    "            f'Label indices: {self.label_indices}',\n",
    "            f'Label column name(s): {self.label_columns}'])"
   ]
  },
  {
   "cell_type": "code",
   "execution_count": 110,
   "metadata": {},
   "outputs": [
    {
     "data": {
      "text/plain": [
       "Total window size: 168\n",
       "Input indices: [  0   1   2   3   4   5   6   7   8   9  10  11  12  13  14  15  16  17\n",
       "  18  19  20  21  22  23  24  25  26  27  28  29  30  31  32  33  34  35\n",
       "  36  37  38  39  40  41  42  43  44  45  46  47  48  49  50  51  52  53\n",
       "  54  55  56  57  58  59  60  61  62  63  64  65  66  67  68  69  70  71\n",
       "  72  73  74  75  76  77  78  79  80  81  82  83  84  85  86  87  88  89\n",
       "  90  91  92  93  94  95  96  97  98  99 100 101 102 103 104 105 106 107\n",
       " 108 109 110 111 112 113 114 115 116 117 118 119 120 121 122 123 124 125\n",
       " 126 127 128 129 130 131 132 133 134 135 136 137 138 139 140 141]\n",
       "Label indices: [167]\n",
       "Label column name(s): ['Confirmed']"
      ]
     },
     "execution_count": 110,
     "metadata": {},
     "output_type": "execute_result"
    }
   ],
   "source": [
    "w1 = WindowGenerator(input_width=142, label_width=1, shift=26,\n",
    "                     label_columns=['Confirmed'])\n",
    "w1"
   ]
  },
  {
   "cell_type": "code",
   "execution_count": 111,
   "metadata": {},
   "outputs": [
    {
     "data": {
      "text/plain": [
       "Total window size: 168\n",
       "Input indices: [  0   1   2   3   4   5   6   7   8   9  10  11  12  13  14  15  16  17\n",
       "  18  19  20  21  22  23  24  25  26  27  28  29  30  31  32  33  34  35\n",
       "  36  37  38  39  40  41  42  43  44  45  46  47  48  49  50  51  52  53\n",
       "  54  55  56  57  58  59  60  61  62  63  64  65  66  67  68  69  70  71\n",
       "  72  73  74  75  76  77  78  79  80  81  82  83  84  85  86  87  88  89\n",
       "  90  91  92  93  94  95  96  97  98  99 100 101 102 103 104 105 106 107\n",
       " 108 109 110 111 112 113 114 115 116 117 118 119 120 121 122 123 124 125\n",
       " 126 127 128 129 130 131 132 133 134 135 136 137 138 139 140 141]\n",
       "Label indices: [167]\n",
       "Label column name(s): ['Deaths']"
      ]
     },
     "execution_count": 111,
     "metadata": {},
     "output_type": "execute_result"
    }
   ],
   "source": [
    "w2 = WindowGenerator(input_width=142, label_width=1, shift=26,\n",
    "                     label_columns=['Deaths'])\n",
    "w2"
   ]
  },
  {
   "cell_type": "code",
   "execution_count": 112,
   "metadata": {},
   "outputs": [
    {
     "data": {
      "text/plain": [
       "168"
      ]
     },
     "execution_count": 112,
     "metadata": {},
     "output_type": "execute_result"
    }
   ],
   "source": [
    "w2.total_window_size"
   ]
  },
  {
   "cell_type": "code",
   "execution_count": 113,
   "metadata": {},
   "outputs": [],
   "source": [
    "def split_window(self, features):\n",
    "    inputs = features[:, self.input_slice, :]\n",
    "    labels = features[:, self.labels_slice, :]\n",
    "    if self.label_columns is not None:\n",
    "        labels = tf.stack(\n",
    "            [labels[:, :, self.column_indices[name]] for name in self.label_columns],\n",
    "            axis=-1)\n",
    "\n",
    "    # Slicing doesn't preserve static shape information, so set the shapes\n",
    "    # manually. This way the `tf.data.Datasets` are easier to inspect.\n",
    "    inputs.set_shape([None, self.input_width, None])\n",
    "    labels.set_shape([None, self.label_width, None])\n",
    "\n",
    "    return inputs, labels\n",
    "\n",
    "WindowGenerator.split_window = split_window"
   ]
  },
  {
   "cell_type": "code",
   "execution_count": 114,
   "metadata": {},
   "outputs": [
    {
     "data": {
      "text/plain": [
       "(193, 10)"
      ]
     },
     "execution_count": 114,
     "metadata": {},
     "output_type": "execute_result"
    }
   ],
   "source": [
    "train_df.shape"
   ]
  },
  {
   "cell_type": "code",
   "execution_count": 115,
   "metadata": {},
   "outputs": [
    {
     "name": "stdout",
     "output_type": "stream",
     "text": [
      "All shapes are: (batch, time, features)\n",
      "Window shape: (3, 168, 10)\n",
      "Inputs shape: (3, 142, 10)\n",
      "labels shape: (3, 1, 1)\n"
     ]
    }
   ],
   "source": [
    "# Stack three slices, the length of the total window:\n",
    "example_window = tf.stack([np.array(train_df[:w2.total_window_size]),\n",
    "                           np.array(train_df[12:12+w2.total_window_size]),\n",
    "                           np.array(train_df[24:24+w2.total_window_size])])\n",
    "\n",
    "\n",
    "example_inputs, example_labels = w2.split_window(example_window)\n",
    "\n",
    "print('All shapes are: (batch, time, features)')\n",
    "print(f'Window shape: {example_window.shape}')\n",
    "print(f'Inputs shape: {example_inputs.shape}')\n",
    "print(f'labels shape: {example_labels.shape}')"
   ]
  },
  {
   "cell_type": "code",
   "execution_count": 116,
   "metadata": {},
   "outputs": [],
   "source": [
    "w2.example = example_inputs, example_labels"
   ]
  },
  {
   "cell_type": "code",
   "execution_count": 117,
   "metadata": {},
   "outputs": [],
   "source": [
    "def plot(self, model=None, plot_col='Deaths', max_subplots=3):\n",
    "    inputs, labels = self.example\n",
    "    plt.figure(figsize=(12, 8))\n",
    "    plot_col_index = self.column_indices[plot_col]\n",
    "    max_n = min(max_subplots, len(inputs))\n",
    "    for n in range(max_n):\n",
    "        plt.subplot(3, 1, n+1)\n",
    "        plt.ylabel(f'{plot_col} [normed]')\n",
    "        plt.plot(self.input_indices, inputs[n, :, plot_col_index],\n",
    "                 label='Inputs', marker='.', zorder=-10)\n",
    "\n",
    "        if self.label_columns:\n",
    "            label_col_index = self.label_columns_indices.get(plot_col, None)\n",
    "        else:\n",
    "            label_col_index = plot_col_index\n",
    "\n",
    "        if label_col_index is None:\n",
    "            continue\n",
    "\n",
    "        plt.scatter(self.label_indices, labels[n, :, label_col_index],\n",
    "                    edgecolors='k', label='Labels', c='#2ca02c', s=64)\n",
    "        if model is not None:\n",
    "            predictions = model(inputs)\n",
    "            plt.scatter(self.label_indices, predictions[n, :, label_col_index],\n",
    "                      marker='X', edgecolors='k', label='Predictions',\n",
    "                      c='#ff7f0e', s=64)\n",
    "\n",
    "        if n == 0:\n",
    "            plt.legend()\n",
    "\n",
    "    plt.xlabel('Time [days]')\n",
    "\n",
    "WindowGenerator.plot = plot"
   ]
  },
  {
   "cell_type": "code",
   "execution_count": 118,
   "metadata": {},
   "outputs": [
    {
     "data": {
      "image/png": "[encoded data removed]",
      "text/plain": [
       "<Figure size 864x576 with 3 Axes>"
      ]
     },
     "metadata": {
      "needs_background": "light"
     },
     "output_type": "display_data"
    }
   ],
   "source": [
    "w2.plot()"
   ]
  },
  {
   "cell_type": "code",
   "execution_count": 119,
   "metadata": {},
   "outputs": [],
   "source": [
    "def make_dataset(self, data):\n",
    "    data = np.array(data, dtype=np.float32)\n",
    "    ds = tf.keras.preprocessing.timeseries_dataset_from_array(\n",
    "      data=data,\n",
    "      targets=None,\n",
    "      sequence_length=self.total_window_size,\n",
    "      sequence_stride=1,\n",
    "      shuffle=True,\n",
    "      batch_size=32,)\n",
    "\n",
    "    ds = ds.map(self.split_window)\n",
    "\n",
    "    return ds\n",
    "\n",
    "WindowGenerator.make_dataset = make_dataset"
   ]
  },
  {
   "cell_type": "code",
   "execution_count": 120,
   "metadata": {},
   "outputs": [],
   "source": [
    "@property\n",
    "def train(self):\n",
    "    return self.make_dataset(self.train_df)\n",
    "\n",
    "@property\n",
    "def val(self):\n",
    "    return self.make_dataset(self.val_df)\n",
    "\n",
    "@property\n",
    "def test(self):\n",
    "    return self.make_dataset(self.test_df)\n",
    "\n",
    "@property\n",
    "def example(self):\n",
    "    \"\"\"Get and cache an example batch of `inputs, labels` for plotting.\"\"\"\n",
    "    result = getattr(self, '_example', None)\n",
    "    if result is None:\n",
    "        # No example batch was found, so get one from the `.train` dataset\n",
    "        result = next(iter(self.train))\n",
    "        # And cache it for next time\n",
    "        self._example = result\n",
    "    return result\n",
    "\n",
    "WindowGenerator.train = train\n",
    "WindowGenerator.val = val\n",
    "WindowGenerator.test = test\n",
    "WindowGenerator.example = example"
   ]
  },
  {
   "cell_type": "code",
   "execution_count": 121,
   "metadata": {},
   "outputs": [
    {
     "data": {
      "text/plain": [
       "(TensorSpec(shape=(None, 142, 10), dtype=tf.float32, name=None),\n",
       " TensorSpec(shape=(None, 1, 1), dtype=tf.float32, name=None))"
      ]
     },
     "execution_count": 121,
     "metadata": {},
     "output_type": "execute_result"
    }
   ],
   "source": [
    "w2.train.element_spec"
   ]
  },
  {
   "cell_type": "code",
   "execution_count": 122,
   "metadata": {},
   "outputs": [
    {
     "data": {
      "text/plain": [
       "Total window size: 2\n",
       "Input indices: [0]\n",
       "Label indices: [1]\n",
       "Label column name(s): ['Deaths']"
      ]
     },
     "execution_count": 122,
     "metadata": {},
     "output_type": "execute_result"
    }
   ],
   "source": [
    "single_step_window = WindowGenerator(\n",
    "    input_width=1, label_width=1, shift=1,\n",
    "    label_columns=['Deaths'])\n",
    "single_step_window"
   ]
  },
  {
   "cell_type": "code",
   "execution_count": 123,
   "metadata": {},
   "outputs": [
    {
     "name": "stdout",
     "output_type": "stream",
     "text": [
      "Inputs shape (batch, time, features): (32, 1, 10)\n",
      "Labels shape (batch, time, features): (32, 1, 1)\n"
     ]
    }
   ],
   "source": [
    "for example_inputs, example_labels in single_step_window.train.take(1):\n",
    "    print(f'Inputs shape (batch, time, features): {example_inputs.shape}')\n",
    "    print(f'Labels shape (batch, time, features): {example_labels.shape}')"
   ]
  },
  {
   "cell_type": "code",
   "execution_count": 125,
   "metadata": {},
   "outputs": [],
   "source": [
    "class Baseline(tf.keras.Model):\n",
    "    def __init__(self, label_index=None):\n",
    "        super().__init__()\n",
    "        self.label_index = label_index\n",
    "\n",
    "    def call(self, inputs):\n",
    "        if self.label_index is None:\n",
    "            return inputs\n",
    "        result = inputs[:, :, self.label_index]\n",
    "        return result[:, :, tf.newaxis]"
   ]
  },
  {
   "cell_type": "code",
   "execution_count": 126,
   "metadata": {},
   "outputs": [
    {
     "name": "stdout",
     "output_type": "stream",
     "text": [
      "6/6 [==============================] - 0s 990us/step - loss: 3.7403e-04 - mean_absolute_error: 0.0168\n"
     ]
    }
   ],
   "source": [
    "baseline = Baseline(label_index=column_indices['Deaths'])\n",
    "\n",
    "baseline.compile(loss=tf.losses.MeanSquaredError(),\n",
    "                 metrics=[tf.metrics.MeanAbsoluteError()])\n",
    "\n",
    "val_performance = {}\n",
    "performance = {}\n",
    "val_performance['Baseline'] = baseline.evaluate(single_step_window.val)\n",
    "performance['Baseline'] = baseline.evaluate(single_step_window.test, verbose=0)"
   ]
  },
  {
   "cell_type": "code",
   "execution_count": 130,
   "metadata": {},
   "outputs": [
    {
     "data": {
      "text/plain": [
       "Total window size: 143\n",
       "Input indices: [  0   1   2   3   4   5   6   7   8   9  10  11  12  13  14  15  16  17\n",
       "  18  19  20  21  22  23  24  25  26  27  28  29  30  31  32  33  34  35\n",
       "  36  37  38  39  40  41  42  43  44  45  46  47  48  49  50  51  52  53\n",
       "  54  55  56  57  58  59  60  61  62  63  64  65  66  67  68  69  70  71\n",
       "  72  73  74  75  76  77  78  79  80  81  82  83  84  85  86  87  88  89\n",
       "  90  91  92  93  94  95  96  97  98  99 100 101 102 103 104 105 106 107\n",
       " 108 109 110 111 112 113 114 115 116 117 118 119 120 121 122 123 124 125\n",
       " 126 127 128 129 130 131 132 133 134 135 136 137 138 139 140 141]\n",
       "Label indices: [117 118 119 120 121 122 123 124 125 126 127 128 129 130 131 132 133 134\n",
       " 135 136 137 138 139 140 141 142]\n",
       "Label column name(s): ['Deaths']"
      ]
     },
     "execution_count": 130,
     "metadata": {},
     "output_type": "execute_result"
    }
   ],
   "source": [
    "wide_window = WindowGenerator(\n",
    "    input_width=142, label_width=26, shift=1,\n",
    "    label_columns=['Deaths'])\n",
    "\n",
    "wide_window"
   ]
  },
  {
   "cell_type": "code",
   "execution_count": 131,
   "metadata": {},
   "outputs": [],
   "source": [
    "linear = tf.keras.Sequential([\n",
    "    tf.keras.layers.Dense(units=1)\n",
    "])"
   ]
  },
  {
   "cell_type": "code",
   "execution_count": 132,
   "metadata": {},
   "outputs": [],
   "source": [
    "MAX_EPOCHS = 20\n",
    "\n",
    "def compile_and_fit(model, window, patience=2):\n",
    "    early_stopping = tf.keras.callbacks.EarlyStopping(monitor='val_loss',\n",
    "                                                    patience=patience,\n",
    "                                                    mode='min')\n",
    "\n",
    "    model.compile(loss=tf.losses.MeanSquaredError(),\n",
    "                optimizer=tf.optimizers.Adam(),\n",
    "                metrics=[tf.metrics.MeanAbsoluteError()])\n",
    "\n",
    "    history = model.fit(window.train, epochs=MAX_EPOCHS,\n",
    "                      validation_data=window.val,\n",
    "                      callbacks=[early_stopping])\n",
    "    return history"
   ]
  },
  {
   "cell_type": "code",
   "execution_count": 133,
   "metadata": {},
   "outputs": [
    {
     "name": "stdout",
     "output_type": "stream",
     "text": [
      "Epoch 1/20\n",
      "6/6 [==============================] - 0s 42ms/step - loss: 1.6979 - mean_absolute_error: 1.1527 - val_loss: 1.6179 - val_mean_absolute_error: 1.1241\n",
      "Epoch 2/20\n",
      "6/6 [==============================] - 0s 20ms/step - loss: 1.5625 - mean_absolute_error: 1.1040 - val_loss: 1.4916 - val_mean_absolute_error: 1.0782\n",
      "Epoch 3/20\n",
      "6/6 [==============================] - 0s 21ms/step - loss: 1.4401 - mean_absolute_error: 1.0589 - val_loss: 1.3710 - val_mean_absolute_error: 1.0325\n",
      "Epoch 4/20\n",
      "6/6 [==============================] - 0s 17ms/step - loss: 1.3250 - mean_absolute_error: 1.0135 - val_loss: 1.2574 - val_mean_absolute_error: 0.9873\n",
      "Epoch 5/20\n",
      "6/6 [==============================] - 0s 18ms/step - loss: 1.2127 - mean_absolute_error: 0.9693 - val_loss: 1.1527 - val_mean_absolute_error: 0.9436\n",
      "Epoch 6/20\n",
      "6/6 [==============================] - 0s 15ms/step - loss: 1.1138 - mean_absolute_error: 0.9263 - val_loss: 1.0547 - val_mean_absolute_error: 0.9007\n",
      "Epoch 7/20\n",
      "6/6 [==============================] - 0s 17ms/step - loss: 1.0167 - mean_absolute_error: 0.8825 - val_loss: 0.9659 - val_mean_absolute_error: 0.8599\n",
      "Epoch 8/20\n",
      "6/6 [==============================] - 0s 17ms/step - loss: 0.9311 - mean_absolute_error: 0.8431 - val_loss: 0.8840 - val_mean_absolute_error: 0.8204\n",
      "Epoch 9/20\n",
      "6/6 [==============================] - 0s 19ms/step - loss: 0.8527 - mean_absolute_error: 0.8041 - val_loss: 0.8088 - val_mean_absolute_error: 0.7821\n",
      "Epoch 10/20\n",
      "6/6 [==============================] - 0s 15ms/step - loss: 0.7812 - mean_absolute_error: 0.7674 - val_loss: 0.7401 - val_mean_absolute_error: 0.7450\n",
      "Epoch 11/20\n",
      "6/6 [==============================] - 0s 13ms/step - loss: 0.7139 - mean_absolute_error: 0.7304 - val_loss: 0.6784 - val_mean_absolute_error: 0.7099\n",
      "Epoch 12/20\n",
      "6/6 [==============================] - 0s 21ms/step - loss: 0.6541 - mean_absolute_error: 0.6948 - val_loss: 0.6228 - val_mean_absolute_error: 0.6763\n",
      "Epoch 13/20\n",
      "6/6 [==============================] - 0s 17ms/step - loss: 0.6023 - mean_absolute_error: 0.6631 - val_loss: 0.5716 - val_mean_absolute_error: 0.6442\n",
      "Epoch 14/20\n",
      "6/6 [==============================] - 0s 19ms/step - loss: 0.5517 - mean_absolute_error: 0.6317 - val_loss: 0.5267 - val_mean_absolute_error: 0.6148\n",
      "Epoch 15/20\n",
      "6/6 [==============================] - 0s 16ms/step - loss: 0.5103 - mean_absolute_error: 0.6029 - val_loss: 0.4855 - val_mean_absolute_error: 0.5863\n",
      "Epoch 16/20\n",
      "6/6 [==============================] - 0s 18ms/step - loss: 0.4693 - mean_absolute_error: 0.5744 - val_loss: 0.4496 - val_mean_absolute_error: 0.5599\n",
      "Epoch 17/20\n",
      "6/6 [==============================] - 0s 16ms/step - loss: 0.4352 - mean_absolute_error: 0.5489 - val_loss: 0.4173 - val_mean_absolute_error: 0.5349\n",
      "Epoch 18/20\n",
      "6/6 [==============================] - 0s 19ms/step - loss: 0.4048 - mean_absolute_error: 0.5253 - val_loss: 0.3883 - val_mean_absolute_error: 0.5113\n",
      "Epoch 19/20\n",
      "6/6 [==============================] - 0s 23ms/step - loss: 0.3778 - mean_absolute_error: 0.5026 - val_loss: 0.3624 - val_mean_absolute_error: 0.4904\n",
      "Epoch 20/20\n",
      "6/6 [==============================] - 0s 22ms/step - loss: 0.3527 - mean_absolute_error: 0.4826 - val_loss: 0.3397 - val_mean_absolute_error: 0.4723\n",
      "6/6 [==============================] - 0s 2ms/step - loss: 0.3397 - mean_absolute_error: 0.4723\n"
     ]
    }
   ],
   "source": [
    "history = compile_and_fit(linear, single_step_window)\n",
    "\n",
    "val_performance['Linear'] = linear.evaluate(single_step_window.val)\n",
    "performance['Linear'] = linear.evaluate(single_step_window.test, verbose=0)"
   ]
  },
  {
   "cell_type": "code",
   "execution_count": 135,
   "metadata": {},
   "outputs": [
    {
     "name": "stdout",
     "output_type": "stream",
     "text": [
      "Input shape: (32, 142, 10)\n",
      "Output shape: (32, 142, 1)\n"
     ]
    }
   ],
   "source": [
    "print('Input shape:', wide_window.example[0].shape)\n",
    "print('Output shape:', baseline(wide_window.example[0]).shape)"
   ]
  },
  {
   "cell_type": "code",
   "execution_count": 136,
   "metadata": {},
   "outputs": [
    {
     "ename": "ValueError",
     "evalue": "x and y must be the same size",
     "output_type": "error",
     "traceback": [
      "\u001b[0;31m---------------------------------------------------------------------------\u001b[0m",
      "\u001b[0;31mValueError\u001b[0m                                Traceback (most recent call last)",
      "\u001b[0;32m<ipython-input-136-181d66143f45>\u001b[0m in \u001b[0;36m<module>\u001b[0;34m\u001b[0m\n\u001b[0;32m----> 1\u001b[0;31m \u001b[0mwide_window\u001b[0m\u001b[0;34m.\u001b[0m\u001b[0mplot\u001b[0m\u001b[0;34m(\u001b[0m\u001b[0mlinear\u001b[0m\u001b[0;34m)\u001b[0m\u001b[0;34m\u001b[0m\u001b[0;34m\u001b[0m\u001b[0m\n\u001b[0m",
      "\u001b[0;32m<ipython-input-117-af34a122ea58>\u001b[0m in \u001b[0;36mplot\u001b[0;34m(self, model, plot_col, max_subplots)\u001b[0m\n\u001b[1;32m     24\u001b[0m             plt.scatter(self.label_indices, predictions[n, :, label_col_index],\n\u001b[1;32m     25\u001b[0m                       \u001b[0mmarker\u001b[0m\u001b[0;34m=\u001b[0m\u001b[0;34m'X'\u001b[0m\u001b[0;34m,\u001b[0m \u001b[0medgecolors\u001b[0m\u001b[0;34m=\u001b[0m\u001b[0;34m'k'\u001b[0m\u001b[0;34m,\u001b[0m \u001b[0mlabel\u001b[0m\u001b[0;34m=\u001b[0m\u001b[0;34m'Predictions'\u001b[0m\u001b[0;34m,\u001b[0m\u001b[0;34m\u001b[0m\u001b[0;34m\u001b[0m\u001b[0m\n\u001b[0;32m---> 26\u001b[0;31m                       c='#ff7f0e', s=64)\n\u001b[0m\u001b[1;32m     27\u001b[0m \u001b[0;34m\u001b[0m\u001b[0m\n\u001b[1;32m     28\u001b[0m         \u001b[0;32mif\u001b[0m \u001b[0mn\u001b[0m \u001b[0;34m==\u001b[0m \u001b[0;36m0\u001b[0m\u001b[0;34m:\u001b[0m\u001b[0;34m\u001b[0m\u001b[0;34m\u001b[0m\u001b[0m\n",
      "\u001b[0;32m~/opt/anaconda3/envs/tf/lib/python3.7/site-packages/matplotlib/pyplot.py\u001b[0m in \u001b[0;36mscatter\u001b[0;34m(x, y, s, c, marker, cmap, norm, vmin, vmax, alpha, linewidths, verts, edgecolors, plotnonfinite, data, **kwargs)\u001b[0m\n\u001b[1;32m   2893\u001b[0m         \u001b[0mverts\u001b[0m\u001b[0;34m=\u001b[0m\u001b[0mverts\u001b[0m\u001b[0;34m,\u001b[0m \u001b[0medgecolors\u001b[0m\u001b[0;34m=\u001b[0m\u001b[0medgecolors\u001b[0m\u001b[0;34m,\u001b[0m\u001b[0;34m\u001b[0m\u001b[0;34m\u001b[0m\u001b[0m\n\u001b[1;32m   2894\u001b[0m         \u001b[0mplotnonfinite\u001b[0m\u001b[0;34m=\u001b[0m\u001b[0mplotnonfinite\u001b[0m\u001b[0;34m,\u001b[0m\u001b[0;34m\u001b[0m\u001b[0;34m\u001b[0m\u001b[0m\n\u001b[0;32m-> 2895\u001b[0;31m         **({\"data\": data} if data is not None else {}), **kwargs)\n\u001b[0m\u001b[1;32m   2896\u001b[0m     \u001b[0msci\u001b[0m\u001b[0;34m(\u001b[0m\u001b[0m__ret\u001b[0m\u001b[0;34m)\u001b[0m\u001b[0;34m\u001b[0m\u001b[0;34m\u001b[0m\u001b[0m\n\u001b[1;32m   2897\u001b[0m     \u001b[0;32mreturn\u001b[0m \u001b[0m__ret\u001b[0m\u001b[0;34m\u001b[0m\u001b[0;34m\u001b[0m\u001b[0m\n",
      "\u001b[0;32m~/opt/anaconda3/envs/tf/lib/python3.7/site-packages/matplotlib/__init__.py\u001b[0m in \u001b[0;36minner\u001b[0;34m(ax, data, *args, **kwargs)\u001b[0m\n\u001b[1;32m   1436\u001b[0m     \u001b[0;32mdef\u001b[0m \u001b[0minner\u001b[0m\u001b[0;34m(\u001b[0m\u001b[0max\u001b[0m\u001b[0;34m,\u001b[0m \u001b[0;34m*\u001b[0m\u001b[0margs\u001b[0m\u001b[0;34m,\u001b[0m \u001b[0mdata\u001b[0m\u001b[0;34m=\u001b[0m\u001b[0;32mNone\u001b[0m\u001b[0;34m,\u001b[0m \u001b[0;34m**\u001b[0m\u001b[0mkwargs\u001b[0m\u001b[0;34m)\u001b[0m\u001b[0;34m:\u001b[0m\u001b[0;34m\u001b[0m\u001b[0;34m\u001b[0m\u001b[0m\n\u001b[1;32m   1437\u001b[0m         \u001b[0;32mif\u001b[0m \u001b[0mdata\u001b[0m \u001b[0;32mis\u001b[0m \u001b[0;32mNone\u001b[0m\u001b[0;34m:\u001b[0m\u001b[0;34m\u001b[0m\u001b[0;34m\u001b[0m\u001b[0m\n\u001b[0;32m-> 1438\u001b[0;31m             \u001b[0;32mreturn\u001b[0m \u001b[0mfunc\u001b[0m\u001b[0;34m(\u001b[0m\u001b[0max\u001b[0m\u001b[0;34m,\u001b[0m \u001b[0;34m*\u001b[0m\u001b[0mmap\u001b[0m\u001b[0;34m(\u001b[0m\u001b[0msanitize_sequence\u001b[0m\u001b[0;34m,\u001b[0m \u001b[0margs\u001b[0m\u001b[0;34m)\u001b[0m\u001b[0;34m,\u001b[0m \u001b[0;34m**\u001b[0m\u001b[0mkwargs\u001b[0m\u001b[0;34m)\u001b[0m\u001b[0;34m\u001b[0m\u001b[0;34m\u001b[0m\u001b[0m\n\u001b[0m\u001b[1;32m   1439\u001b[0m \u001b[0;34m\u001b[0m\u001b[0m\n\u001b[1;32m   1440\u001b[0m         \u001b[0mbound\u001b[0m \u001b[0;34m=\u001b[0m \u001b[0mnew_sig\u001b[0m\u001b[0;34m.\u001b[0m\u001b[0mbind\u001b[0m\u001b[0;34m(\u001b[0m\u001b[0max\u001b[0m\u001b[0;34m,\u001b[0m \u001b[0;34m*\u001b[0m\u001b[0margs\u001b[0m\u001b[0;34m,\u001b[0m \u001b[0;34m**\u001b[0m\u001b[0mkwargs\u001b[0m\u001b[0;34m)\u001b[0m\u001b[0;34m\u001b[0m\u001b[0;34m\u001b[0m\u001b[0m\n",
      "\u001b[0;32m~/opt/anaconda3/envs/tf/lib/python3.7/site-packages/matplotlib/cbook/deprecation.py\u001b[0m in \u001b[0;36mwrapper\u001b[0;34m(*inner_args, **inner_kwargs)\u001b[0m\n\u001b[1;32m    409\u001b[0m                          \u001b[0;32melse\u001b[0m \u001b[0mdeprecation_addendum\u001b[0m\u001b[0;34m,\u001b[0m\u001b[0;34m\u001b[0m\u001b[0;34m\u001b[0m\u001b[0m\n\u001b[1;32m    410\u001b[0m                 **kwargs)\n\u001b[0;32m--> 411\u001b[0;31m         \u001b[0;32mreturn\u001b[0m \u001b[0mfunc\u001b[0m\u001b[0;34m(\u001b[0m\u001b[0;34m*\u001b[0m\u001b[0minner_args\u001b[0m\u001b[0;34m,\u001b[0m \u001b[0;34m**\u001b[0m\u001b[0minner_kwargs\u001b[0m\u001b[0;34m)\u001b[0m\u001b[0;34m\u001b[0m\u001b[0;34m\u001b[0m\u001b[0m\n\u001b[0m\u001b[1;32m    412\u001b[0m \u001b[0;34m\u001b[0m\u001b[0m\n\u001b[1;32m    413\u001b[0m     \u001b[0;32mreturn\u001b[0m \u001b[0mwrapper\u001b[0m\u001b[0;34m\u001b[0m\u001b[0;34m\u001b[0m\u001b[0m\n",
      "\u001b[0;32m~/opt/anaconda3/envs/tf/lib/python3.7/site-packages/matplotlib/axes/_axes.py\u001b[0m in \u001b[0;36mscatter\u001b[0;34m(self, x, y, s, c, marker, cmap, norm, vmin, vmax, alpha, linewidths, verts, edgecolors, plotnonfinite, **kwargs)\u001b[0m\n\u001b[1;32m   4439\u001b[0m         \u001b[0my\u001b[0m \u001b[0;34m=\u001b[0m \u001b[0mnp\u001b[0m\u001b[0;34m.\u001b[0m\u001b[0mma\u001b[0m\u001b[0;34m.\u001b[0m\u001b[0mravel\u001b[0m\u001b[0;34m(\u001b[0m\u001b[0my\u001b[0m\u001b[0;34m)\u001b[0m\u001b[0;34m\u001b[0m\u001b[0;34m\u001b[0m\u001b[0m\n\u001b[1;32m   4440\u001b[0m         \u001b[0;32mif\u001b[0m \u001b[0mx\u001b[0m\u001b[0;34m.\u001b[0m\u001b[0msize\u001b[0m \u001b[0;34m!=\u001b[0m \u001b[0my\u001b[0m\u001b[0;34m.\u001b[0m\u001b[0msize\u001b[0m\u001b[0;34m:\u001b[0m\u001b[0;34m\u001b[0m\u001b[0;34m\u001b[0m\u001b[0m\n\u001b[0;32m-> 4441\u001b[0;31m             \u001b[0;32mraise\u001b[0m \u001b[0mValueError\u001b[0m\u001b[0;34m(\u001b[0m\u001b[0;34m\"x and y must be the same size\"\u001b[0m\u001b[0;34m)\u001b[0m\u001b[0;34m\u001b[0m\u001b[0;34m\u001b[0m\u001b[0m\n\u001b[0m\u001b[1;32m   4442\u001b[0m \u001b[0;34m\u001b[0m\u001b[0m\n\u001b[1;32m   4443\u001b[0m         \u001b[0;32mif\u001b[0m \u001b[0ms\u001b[0m \u001b[0;32mis\u001b[0m \u001b[0;32mNone\u001b[0m\u001b[0;34m:\u001b[0m\u001b[0;34m\u001b[0m\u001b[0;34m\u001b[0m\u001b[0m\n",
      "\u001b[0;31mValueError\u001b[0m: x and y must be the same size"
     ]
    },
    {
     "data": {
      "image/png": "[encoded data removed]",
      "text/plain": [
       "<Figure size 864x576 with 1 Axes>"
      ]
     },
     "metadata": {
      "needs_background": "light"
     },
     "output_type": "display_data"
    }
   ],
   "source": [
    "wide_window.plot(linear)"
   ]
  },
  {
   "cell_type": "code",
   "execution_count": 138,
   "metadata": {},
   "outputs": [],
   "source": [
    "class FeedBack(tf.keras.Model):\n",
    "    def __init__(self, units, out_steps):\n",
    "        super().__init__()\n",
    "        self.out_steps = out_steps\n",
    "        self.units = units\n",
    "        self.lstm_cell = tf.keras.layers.LSTMCell(units)\n",
    "        # Also wrap the LSTMCell in an RNN to simplify the `warmup` method.\n",
    "        self.lstm_rnn = tf.keras.layers.RNN(self.lstm_cell, return_state=True)\n",
    "        self.dense = tf.keras.layers.Dense(num_features)"
   ]
  },
  {
   "cell_type": "code",
   "execution_count": 139,
   "metadata": {},
   "outputs": [],
   "source": [
    "feedback_model = FeedBack(units=32, out_steps=OUT_STEPS)"
   ]
  },
  {
   "cell_type": "code",
   "execution_count": 141,
   "metadata": {},
   "outputs": [],
   "source": [
    "def warmup(self, inputs):\n",
    "    # inputs.shape => (batch, time, features)\n",
    "    # x.shape => (batch, lstm_units)\n",
    "    x, *state = self.lstm_rnn(inputs)\n",
    "\n",
    "    # predictions.shape => (batch, features)\n",
    "    prediction = self.dense(x)\n",
    "    return prediction, state\n",
    "\n",
    "FeedBack.warmup = warmup"
   ]
  },
  {
   "cell_type": "code",
   "execution_count": 142,
   "metadata": {},
   "outputs": [
    {
     "data": {
      "text/plain": [
       "TensorShape([26, 10])"
      ]
     },
     "execution_count": 142,
     "metadata": {},
     "output_type": "execute_result"
    }
   ],
   "source": [
    "prediction, state = feedback_model.warmup(multi_window.example[0])\n",
    "prediction.shape"
   ]
  },
  {
   "cell_type": "code",
   "execution_count": 145,
   "metadata": {},
   "outputs": [],
   "source": [
    "def call(self, inputs, training=None):\n",
    "    # Use a TensorArray to capture dynamically unrolled outputs.\n",
    "    predictions = []\n",
    "    # Initialize the lstm state\n",
    "    prediction, state = self.warmup(inputs)\n",
    "\n",
    "    # Insert the first prediction\n",
    "    predictions.append(prediction)\n",
    "\n",
    "    # Run the rest of the prediction steps\n",
    "    for n in range(1, self.out_steps):\n",
    "        # Use the last prediction as input.\n",
    "        x = prediction\n",
    "        # Execute one lstm step.\n",
    "        x, state = self.lstm_cell(x, states=state,\n",
    "                                  training=training)\n",
    "        # Convert the lstm output to a prediction.\n",
    "        prediction = self.dense(x)\n",
    "        # Add the prediction to the output\n",
    "        predictions.append(prediction)\n",
    "\n",
    "    # predictions.shape => (time, batch, features)\n",
    "    predictions = tf.stack(predictions)\n",
    "    # predictions.shape => (batch, time, features)\n",
    "    predictions = tf.transpose(predictions, [1, 0, 2])\n",
    "    return predictions\n",
    "\n",
    "FeedBack.call = call"
   ]
  },
  {
   "cell_type": "code",
   "execution_count": 146,
   "metadata": {},
   "outputs": [
    {
     "name": "stdout",
     "output_type": "stream",
     "text": [
      "Output shape (batch, time, features):  (26, 26, 10)\n"
     ]
    }
   ],
   "source": [
    "print('Output shape (batch, time, features): ', feedback_model(multi_window.example[0]).shape)"
   ]
  },
  {
   "cell_type": "code",
   "execution_count": 147,
   "metadata": {},
   "outputs": [
    {
     "name": "stdout",
     "output_type": "stream",
     "text": [
      "1/1 [==============================] - 0s 1ms/step - loss: 0.4707 - mean_absolute_error: 0.5445\n"
     ]
    },
    {
     "data": {
      "image/png": "[encoded data removed]",
      "text/plain": [
       "<Figure size 864x576 with 3 Axes>"
      ]
     },
     "metadata": {
      "needs_background": "light"
     },
     "output_type": "display_data"
    }
   ],
   "source": [
    "history = compile_and_fit(feedback_model, multi_window)\n",
    "\n",
    "IPython.display.clear_output()\n",
    "\n",
    "multi_val_performance['AR LSTM'] = feedback_model.evaluate(multi_window.val)\n",
    "multi_performance['AR LSTM'] = feedback_model.evaluate(multi_window.test, verbose=0)\n",
    "multi_window.plot(feedback_model)"
   ]
  },
  {
   "cell_type": "markdown",
   "metadata": {},
   "source": [
    "## Additional Features"
   ]
  },
  {
   "cell_type": "markdown",
   "metadata": {},
   "source": [
    "We will hard code each state's overall political stance in 2020, with 3 indicating safe, 2 indicating likely, 1 indicating leaning, and 0 indicating none. Thus the parameters \"dem\" and \"rep\" are ordinal while \"swing\" is a dummy variable. Because Maine and Nebraska allow split voting, we will consider Maine likely democratic and Nebraska likely republican. The source of the data is from https://www.270towin.com/\n",
    "\n",
    "We will also include whether a state has enacted a mandatory mask mandate, the data for which is from [Axios](https://www.axios.com/states-face-coverings-mandatory-a0e2fe35-5b7b-458e-9d28-3f6cdb1032fb.html). This will be dummy coded."
   ]
  },
  {
   "cell_type": "code",
   "execution_count": null,
   "metadata": {},
   "outputs": [],
   "source": [
    "dem = [0, 0, 1, 0, 3, 2, 3, 3, 0, 0, 3, 0, 3, 0, 0, 0, 0, 0, 2, 3, 3, 1, 2, 0, 0, 0, 0, 1, 1, 3, 2, 3, 0, 0, 0, 0, 3, 1, 3, 0, 0, 0, 0, 0, 3, 2, 3, 0, 1, 0]\n",
    "rep = [3, 2, 0, 3, 0, 0, 0, 0, 0, 0, 0, 3, 0, 3, 0, 2, 3, 3, 0, 0, 0, 0, 0, 3, 2, 2, 2, 0, 0, 0, 0, 0, 0, 3, 0, 3, 0, 0, 0, 2, 3, 3, 1, 2, 0, 0, 0, 3, 0, 3]\n",
    "swing = [0, 0, 0, 0, 0, 0, 0, 0, 1, 1, 0, 0, 0, 0, 1, 0, 0, 0, 0, 0, 0, 0, 0, 0, 0, 0, 0, 0, 0, 0, 0, 0, 1, 0, 1, 0, 0, 0, 0, 0, 0, 0, 0, 0, 0, 0, 0, 0, 0, 0]\n",
    "mask = [1, 0, 0, 1, 1, 1, 1, 1, 0, 0, 1, 0, 1, 1, 0, 1, 1, 1, 1, 1, 1, 1, 1, 1, 0, 1, 0, 1, 0, 1, 1, 1, 1, 0, 1, 0, 1, 1, 1, 0, 0, 0, 1, 0, 1, 1, 1, 1, 1, 0]"
   ]
  },
  {
   "cell_type": "code",
   "execution_count": null,
   "metadata": {},
   "outputs": [],
   "source": [
    "# repeats an array, e.gg [1,2,3] 2 times is [1,2,3,1,2,3]\n",
    "def repeat(dat, times):\n",
    "    temp = dat\n",
    "    for i in range(int(times) - 1):\n",
    "        temp = np.append(temp, dat)\n",
    "    return temp\n",
    "\n",
    "times = data.shape[0] / 50\n",
    "data['dem'] = repeat(dem, times)\n",
    "data['rep'] = repeat(rep, times)\n",
    "data['swing'] = repeat(swing, times)\n",
    "data['mask'] = repeat(mask, times)"
   ]
  },
  {
   "cell_type": "code",
   "execution_count": null,
   "metadata": {},
   "outputs": [],
   "source": [
    "data_sort = data[['Province_State', 'Last_Update', 'Confirmed']].sort_values(by = ['Province_State', 'Last_Update'])\n",
    "cols = data_sort[['Province_State', 'Last_Update']].loc[data_sort['Province_State'] == 'Alabama']\n",
    "new = data_sort['Confirmed'].loc[data_sort['Province_State'] == 'Alabama']\n",
    "new = pd.Series(np.append(new.iloc[0], new.iloc[0:len(new) - 1]), index = data_sort.loc[data_sort['Province_State'] == 'Alabama'].index)\n",
    "df = pd.concat([cols, data_sort['Confirmed'].loc[data_sort['Province_State'] == 'Alabama'] - new], axis = 1)\n",
    "df.columns.values[2] = 'New_Confirmed'\n",
    "\n",
    "for state in statenames[1:len(statenames)]:\n",
    "    cols = data_sort[['Province_State', 'Last_Update']].loc[data_sort['Province_State'] == state]\n",
    "    new = data_sort['Confirmed'].loc[data_sort['Province_State'] == state]\n",
    "    new = pd.Series(np.append(new.iloc[0], new.iloc[0:len(new) - 1]), index = data_sort.loc[data_sort['Province_State'] == state].index)\n",
    "    temp = pd.concat([cols, data_sort['Confirmed'].loc[data_sort['Province_State'] == state] - new], axis = 1)\n",
    "    temp.columns.values[2] = 'New_Confirmed'\n",
    "    df = df.append(temp)\n",
    "\n",
    "data = pd.concat([data, df.sort_values(by = ['Last_Update', 'Province_State'])[['New_Confirmed']]], axis = 1)      "
   ]
  },
  {
   "cell_type": "code",
   "execution_count": null,
   "metadata": {},
   "outputs": [],
   "source": [
    "data_sort = data[['Province_State', 'Last_Update', 'Deaths']].sort_values(by = ['Province_State', 'Last_Update'])\n",
    "cols = data_sort[['Province_State', 'Last_Update']].loc[data_sort['Province_State'] == 'Alabama']\n",
    "new = data_sort['Deaths'].loc[data_sort['Province_State'] == 'Alabama']\n",
    "new = pd.Series(np.append(new.iloc[0], new.iloc[0:len(new) - 1]), index = data_sort.loc[data_sort['Province_State'] == 'Alabama'].index)\n",
    "df = pd.concat([cols, data_sort['Deaths'].loc[data_sort['Province_State'] == 'Alabama'] - new], axis = 1)\n",
    "df.columns.values[2] = 'New_Deaths'\n",
    "\n",
    "for state in statenames[1:len(statenames)]:\n",
    "    cols = data_sort[['Province_State', 'Last_Update']].loc[data_sort['Province_State'] == state]\n",
    "    new = data_sort['Deaths'].loc[data_sort['Province_State'] == state]\n",
    "    new = pd.Series(np.append(new.iloc[0], new.iloc[0:len(new) - 1]), index = data_sort.loc[data_sort['Province_State'] == state].index)\n",
    "    temp = pd.concat([cols, data_sort['Deaths'].loc[data_sort['Province_State'] == state] - new], axis = 1)\n",
    "    temp.columns.values[2] = 'New_Deaths'\n",
    "    df = df.append(temp)\n",
    "\n",
    "data = pd.concat([data, df.sort_values(by = ['Last_Update', 'Province_State'])[['New_Deaths']]], axis = 1)    \n",
    "data.head()"
   ]
  },
  {
   "cell_type": "markdown",
   "metadata": {},
   "source": [
    "Next we split the data into training and testing sets."
   ]
  },
  {
   "cell_type": "code",
   "execution_count": null,
   "metadata": {},
   "outputs": [],
   "source": [
    "train = data.drop(data[data.Last_Update.astype('datetime64[ns]') > '2020-09-01'].index)\n",
    "#train.drop(columns = \"Last_Update\", inplace = True)\n",
    "test = data.drop(data[(data.Last_Update.astype('datetime64[ns]') <= '2020-09-01')].index)\n",
    "test.drop(test[(test.Last_Update.astype('datetime64[ns]') > '2020-09-27')].index, inplace = True)\n",
    "#test.drop(columns = \"Last_Update\", inplace = True)"
   ]
  },
  {
   "cell_type": "code",
   "execution_count": null,
   "metadata": {},
   "outputs": [],
   "source": [
    "train.head()"
   ]
  },
  {
   "cell_type": "markdown",
   "metadata": {},
   "source": [
    "## Auto ARIMA Predictions"
   ]
  },
  {
   "cell_type": "markdown",
   "metadata": {},
   "source": [
    "Uses a brute force search to find parameters with lowest AIC per state and makes predictions per state."
   ]
  },
  {
   "cell_type": "code",
   "execution_count": null,
   "metadata": {},
   "outputs": [],
   "source": [
    "import datetime\n",
    "base = datetime.date(2020, 9, 1)\n",
    "date_list = [base + datetime.timedelta(days=x) for x in range(26)]\n",
    "for i in range(len(date_list)):\n",
    "    date_list[i] = date_list[i].strftime(\"%m/%d/%Y\")"
   ]
  },
  {
   "cell_type": "code",
   "execution_count": null,
   "metadata": {
    "scrolled": true
   },
   "outputs": [],
   "source": [
    "from pmdarima import auto_arima\n",
    "from statsmodels.tsa.arima.model import ARIMA\n",
    "numdays = 26\n",
    "pred = pd.DataFrame(columns = ['Province_State', 'Date', 'Confirmed'])\n",
    "for state in statenames:\n",
    "    temp = pd.concat([pd.Series(np.repeat(state, repeats = numdays)), pd.Series(date_list)], axis = 1)\n",
    "    train_con = train_data[['Confirmed']].loc[train_data[state] == 1]\n",
    "    stepwise_model = auto_arima(train_con.Confirmed, start_p=0, start_q=1,\n",
    "                           max_p=10, max_q=3, m=12,\n",
    "                           d=2, trace=True,\n",
    "                           error_action='ignore',  \n",
    "                           suppress_warnings=True, \n",
    "                           stepwise=True)\n",
    "    history = [x for x in train_con.Confirmed]\n",
    "    predictions = list()\n",
    "    for t in range(numdays):\n",
    "        model = ARIMA(history, order = stepwise_model.order)\n",
    "        model_fit = model.fit()\n",
    "        output = model_fit.forecast()\n",
    "        predictions.append(output[0])\n",
    "        history.append(output[0])\n",
    "    temp = pd.concat([temp, pd.Series(predictions)], axis = 1)\n",
    "    temp.columns = ['Province_State', 'Date', 'Confirmed']\n",
    "    pred = pred.append(temp)\n"
   ]
  },
  {
   "cell_type": "code",
   "execution_count": null,
   "metadata": {
    "scrolled": true
   },
   "outputs": [],
   "source": [
    "from pmdarima import auto_arima\n",
    "from statsmodels.tsa.arima.model import ARIMA\n",
    "numdays = 26\n",
    "pred_death = pd.DataFrame(columns = ['Province_State', 'Date', 'Deaths'])\n",
    "for state in statenames:\n",
    "    temp = pd.concat([pd.Series(np.repeat(state, repeats = numdays)), pd.Series(date_list)], axis = 1)\n",
    "    train_death = train_data[['Deaths']].loc[train_data[state] == 1]\n",
    "    print(state)\n",
    "    stepwise_model = auto_arima(train_death.Deaths, start_p=0, start_q=1,\n",
    "                           max_p=10, max_q=3, m=12,\n",
    "                           d=2, trace=True,\n",
    "                           error_action='ignore',  \n",
    "                           suppress_warnings=True, \n",
    "                           stepwise=True)\n",
    "    history = [x for x in train_death.Deaths]\n",
    "    predictions = list()\n",
    "    for t in range(numdays):\n",
    "        if (state == 'New York'):\n",
    "            model = ARIMA(history, order = (1,2,2))\n",
    "        else:\n",
    "            model = ARIMA(history, order = stepwise_model.order)\n",
    "        model_fit = model.fit()\n",
    "        output = model_fit.forecast()\n",
    "        predictions.append(output[0])\n",
    "        history.append(output[0])\n",
    "    temp = pd.concat([temp, pd.Series(predictions)], axis = 1)\n",
    "    temp.columns = ['Province_State', 'Date', 'Deaths']\n",
    "    pred_death = pred_death.append(temp)\n"
   ]
  },
  {
   "cell_type": "code",
   "execution_count": null,
   "metadata": {},
   "outputs": [],
   "source": [
    "pred2 = pred\n",
    "pred2['Deaths'] = pred_death['Deaths']\n",
    "pred2 = pred2.sort_values(by = ['Date', 'Province_State']).reset_index(drop = True)\n",
    "pred2 = pred2.drop(columns = ['Province_State', 'Date'])\n",
    "pred2.index.name = 'ForecastID'"
   ]
  },
  {
   "cell_type": "code",
   "execution_count": null,
   "metadata": {},
   "outputs": [],
   "source": [
    "actual = test_data[['Confirmed', 'Deaths']]\n",
    "mape = np.absolute(np.array(pred2[['Confirmed', 'Deaths']]) - actual) / np.array(actual)\n",
    "mape = np.sum(mape, axis = 0) / len(pred2)\n",
    "#mape = np.sum(mape) / (2 * len(pred2))\n",
    "mape"
   ]
  },
  {
   "cell_type": "code",
   "execution_count": null,
   "metadata": {},
   "outputs": [],
   "source": [
    "pred2.to_csv(\"Team1_AutoARIMA.csv\")"
   ]
  },
  {
   "cell_type": "markdown",
   "metadata": {},
   "source": [
    "Calculated MAPE does not seem to match the Kaggle calculation exactly for some reason."
   ]
  },
  {
   "cell_type": "markdown",
   "metadata": {},
   "source": [
    "## Archived Code"
   ]
  },
  {
   "cell_type": "markdown",
   "metadata": {},
   "source": [
    "We will add a parameter for the number of days since Jan 1st, which will eventually replace the timestamps.\n"
   ]
  },
  {
   "cell_type": "code",
   "execution_count": null,
   "metadata": {},
   "outputs": [],
   "source": [
    "import datetime\n",
    "# add a column for days since Jan 1st(will eventually remove timestamp)\n",
    "# too lazy to vectorize\n",
    "days = np.zeros(len(data.index))\n",
    "for i in range(len(data.index)):\n",
    "    days[i] = (data['Last_Update'][i].date() - datetime.date(2020, 1, 1)).days\n",
    "data['days'] = days\n",
    "\n",
    "data.head()"
   ]
  }
 ],
 "metadata": {
  "kernelspec": {
   "display_name": "Python 3",
   "language": "python",
   "name": "python3"
  },
  "language_info": {
   "codemirror_mode": {
    "name": "ipython",
    "version": 3
   },
   "file_extension": ".py",
   "mimetype": "text/x-python",
   "name": "python",
   "nbconvert_exporter": "python",
   "pygments_lexer": "ipython3",
   "version": "3.7.9"
  }
 },
 "nbformat": 4,
 "nbformat_minor": 4
}
