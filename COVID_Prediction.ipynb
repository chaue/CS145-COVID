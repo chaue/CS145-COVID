{
 "cells": [
  {
   "cell_type": "markdown",
   "metadata": {},
   "source": [
    "# CS 145 COVID Prediction"
   ]
  },
  {
   "cell_type": "markdown",
   "metadata": {},
   "source": [
    "## Loading Data"
   ]
  },
  {
   "cell_type": "markdown",
   "metadata": {},
   "source": [
    "First we need to load the data, which is stored in CSV files separated by date"
   ]
  },
  {
   "cell_type": "code",
   "execution_count": 1,
   "metadata": {},
   "outputs": [],
   "source": [
    "import numpy as np\n",
    "import pandas as pd\n",
    "import glob"
   ]
  },
  {
   "cell_type": "code",
   "execution_count": 19,
   "metadata": {},
   "outputs": [
    {
     "name": "stdout",
     "output_type": "stream",
     "text": [
      "['../COVID-19/csse_covid_19_data/csse_covid_19_daily_reports_us\\\\08-28-2020.csv'\n",
      " '../COVID-19/csse_covid_19_data/csse_covid_19_daily_reports_us\\\\08-29-2020.csv'\n",
      " '../COVID-19/csse_covid_19_data/csse_covid_19_daily_reports_us\\\\08-30-2020.csv'\n",
      " '../COVID-19/csse_covid_19_data/csse_covid_19_daily_reports_us\\\\08-31-2020.csv']\n"
     ]
    }
   ],
   "source": [
    "# grab filepaths for every csv file\n",
    "datapath = '../COVID-19/csse_covid_19_data/csse_covid_19_daily_reports_us/*.csv'\n",
    "datafiles = np.array(glob.glob(datapath))\n",
    "print(datafiles[138:142])"
   ]
  },
  {
   "cell_type": "code",
   "execution_count": 44,
   "metadata": {
    "scrolled": false
   },
   "outputs": [
    {
     "data": {
      "text/html": [
       "<div>\n",
       "<style scoped>\n",
       "    .dataframe tbody tr th:only-of-type {\n",
       "        vertical-align: middle;\n",
       "    }\n",
       "\n",
       "    .dataframe tbody tr th {\n",
       "        vertical-align: top;\n",
       "    }\n",
       "\n",
       "    .dataframe thead th {\n",
       "        text-align: right;\n",
       "    }\n",
       "</style>\n",
       "<table border=\"1\" class=\"dataframe\">\n",
       "  <thead>\n",
       "    <tr style=\"text-align: right;\">\n",
       "      <th></th>\n",
       "      <th>Province_State</th>\n",
       "      <th>Country_Region</th>\n",
       "      <th>Last_Update</th>\n",
       "      <th>Lat</th>\n",
       "      <th>Long_</th>\n",
       "      <th>Confirmed</th>\n",
       "      <th>Deaths</th>\n",
       "      <th>Recovered</th>\n",
       "      <th>Active</th>\n",
       "      <th>FIPS</th>\n",
       "      <th>Incident_Rate</th>\n",
       "      <th>People_Tested</th>\n",
       "      <th>People_Hospitalized</th>\n",
       "      <th>Mortality_Rate</th>\n",
       "      <th>UID</th>\n",
       "      <th>ISO3</th>\n",
       "      <th>Testing_Rate</th>\n",
       "      <th>Hospitalization_Rate</th>\n",
       "    </tr>\n",
       "  </thead>\n",
       "  <tbody>\n",
       "    <tr>\n",
       "      <th>48</th>\n",
       "      <td>Wisconsin</td>\n",
       "      <td>US</td>\n",
       "      <td>2020-04-12 23:18:15</td>\n",
       "      <td>44.2685</td>\n",
       "      <td>-89.6165</td>\n",
       "      <td>3341</td>\n",
       "      <td>144</td>\n",
       "      <td>NaN</td>\n",
       "      <td>3197.0</td>\n",
       "      <td>55.0</td>\n",
       "      <td>64.565739</td>\n",
       "      <td>39257.0</td>\n",
       "      <td>974.0</td>\n",
       "      <td>4.310087</td>\n",
       "      <td>84000055.0</td>\n",
       "      <td>USA</td>\n",
       "      <td>758.652263</td>\n",
       "      <td>29.152948</td>\n",
       "    </tr>\n",
       "    <tr>\n",
       "      <th>49</th>\n",
       "      <td>Wyoming</td>\n",
       "      <td>US</td>\n",
       "      <td>2020-04-12 23:18:15</td>\n",
       "      <td>42.7560</td>\n",
       "      <td>-107.3025</td>\n",
       "      <td>270</td>\n",
       "      <td>0</td>\n",
       "      <td>137.0</td>\n",
       "      <td>270.0</td>\n",
       "      <td>56.0</td>\n",
       "      <td>54.299735</td>\n",
       "      <td>5459.0</td>\n",
       "      <td>40.0</td>\n",
       "      <td>0.000000</td>\n",
       "      <td>84000056.0</td>\n",
       "      <td>USA</td>\n",
       "      <td>1097.860188</td>\n",
       "      <td>14.814815</td>\n",
       "    </tr>\n",
       "    <tr>\n",
       "      <th>50</th>\n",
       "      <td>Alabama</td>\n",
       "      <td>US</td>\n",
       "      <td>2020-04-13 23:07:54</td>\n",
       "      <td>32.3182</td>\n",
       "      <td>-86.9023</td>\n",
       "      <td>3734</td>\n",
       "      <td>99</td>\n",
       "      <td>NaN</td>\n",
       "      <td>3635.0</td>\n",
       "      <td>1.0</td>\n",
       "      <td>79.634933</td>\n",
       "      <td>29182.0</td>\n",
       "      <td>457.0</td>\n",
       "      <td>2.651312</td>\n",
       "      <td>84000001.0</td>\n",
       "      <td>USA</td>\n",
       "      <td>622.363852</td>\n",
       "      <td>12.238886</td>\n",
       "    </tr>\n",
       "    <tr>\n",
       "      <th>51</th>\n",
       "      <td>Alaska</td>\n",
       "      <td>US</td>\n",
       "      <td>2020-04-13 23:07:54</td>\n",
       "      <td>61.3707</td>\n",
       "      <td>-152.4044</td>\n",
       "      <td>277</td>\n",
       "      <td>8</td>\n",
       "      <td>85.0</td>\n",
       "      <td>269.0</td>\n",
       "      <td>2.0</td>\n",
       "      <td>46.340521</td>\n",
       "      <td>7830.0</td>\n",
       "      <td>32.0</td>\n",
       "      <td>2.888087</td>\n",
       "      <td>84000002.0</td>\n",
       "      <td>USA</td>\n",
       "      <td>1309.914362</td>\n",
       "      <td>11.552347</td>\n",
       "    </tr>\n",
       "    <tr>\n",
       "      <th>52</th>\n",
       "      <td>Arizona</td>\n",
       "      <td>US</td>\n",
       "      <td>2020-04-13 23:07:54</td>\n",
       "      <td>33.7298</td>\n",
       "      <td>-111.4312</td>\n",
       "      <td>3705</td>\n",
       "      <td>122</td>\n",
       "      <td>NaN</td>\n",
       "      <td>3583.0</td>\n",
       "      <td>4.0</td>\n",
       "      <td>50.901828</td>\n",
       "      <td>43347.0</td>\n",
       "      <td>525.0</td>\n",
       "      <td>3.292848</td>\n",
       "      <td>84000004.0</td>\n",
       "      <td>USA</td>\n",
       "      <td>595.530778</td>\n",
       "      <td>14.170040</td>\n",
       "    </tr>\n",
       "  </tbody>\n",
       "</table>\n",
       "</div>"
      ],
      "text/plain": [
       "   Province_State Country_Region          Last_Update      Lat     Long_  \\\n",
       "48      Wisconsin             US  2020-04-12 23:18:15  44.2685  -89.6165   \n",
       "49        Wyoming             US  2020-04-12 23:18:15  42.7560 -107.3025   \n",
       "50        Alabama             US  2020-04-13 23:07:54  32.3182  -86.9023   \n",
       "51         Alaska             US  2020-04-13 23:07:54  61.3707 -152.4044   \n",
       "52        Arizona             US  2020-04-13 23:07:54  33.7298 -111.4312   \n",
       "\n",
       "    Confirmed  Deaths  Recovered  Active  FIPS  Incident_Rate  People_Tested  \\\n",
       "48       3341     144        NaN  3197.0  55.0      64.565739        39257.0   \n",
       "49        270       0      137.0   270.0  56.0      54.299735         5459.0   \n",
       "50       3734      99        NaN  3635.0   1.0      79.634933        29182.0   \n",
       "51        277       8       85.0   269.0   2.0      46.340521         7830.0   \n",
       "52       3705     122        NaN  3583.0   4.0      50.901828        43347.0   \n",
       "\n",
       "    People_Hospitalized  Mortality_Rate         UID ISO3  Testing_Rate  \\\n",
       "48                974.0        4.310087  84000055.0  USA    758.652263   \n",
       "49                 40.0        0.000000  84000056.0  USA   1097.860188   \n",
       "50                457.0        2.651312  84000001.0  USA    622.363852   \n",
       "51                 32.0        2.888087  84000002.0  USA   1309.914362   \n",
       "52                525.0        3.292848  84000004.0  USA    595.530778   \n",
       "\n",
       "    Hospitalization_Rate  \n",
       "48             29.152948  \n",
       "49             14.814815  \n",
       "50             12.238886  \n",
       "51             11.552347  \n",
       "52             14.170040  "
      ]
     },
     "execution_count": 44,
     "metadata": {},
     "output_type": "execute_result"
    }
   ],
   "source": [
    "# init giant df\n",
    "data = pd.read_csv(datafiles[0])\n",
    "# read and append each csv to the master df\n",
    "for i in range(1, 143):\n",
    "    df = pd.read_csv(datafiles[i])\n",
    "    data = data.append(df, ignore_index = True)\n",
    "# only keep 50 states\n",
    "data = data.drop(data[data.Province_State.isin(['Diamond Princess', 'District of Columbia', 'Grand Princess', 'Guam', 'Puerto Rico', 'American Samoa', 'Northern Mariana Islands', 'Recovered', 'Virgin Islands'])].index)\n",
    "data = data.reset_index(drop=True)\n",
    "data.loc[48:52, ]"
   ]
  },
  {
   "cell_type": "markdown",
   "metadata": {},
   "source": [
    "## Data Cleaning"
   ]
  },
  {
   "cell_type": "code",
   "execution_count": null,
   "metadata": {},
   "outputs": [],
   "source": []
  }
 ],
 "metadata": {
  "kernelspec": {
   "display_name": "Python 3",
   "language": "python",
   "name": "python3"
  },
  "language_info": {
   "codemirror_mode": {
    "name": "ipython",
    "version": 3
   },
   "file_extension": ".py",
   "mimetype": "text/x-python",
   "name": "python",
   "nbconvert_exporter": "python",
   "pygments_lexer": "ipython3",
   "version": "3.8.5"
  }
 },
 "nbformat": 4,
 "nbformat_minor": 4
}
